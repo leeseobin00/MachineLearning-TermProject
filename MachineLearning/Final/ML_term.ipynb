{
 "cells": [
  {
   "cell_type": "markdown",
   "metadata": {
    "id": "U28Mu-hs8MfN"
   },
   "source": [
    "# 1.Import Livraries"
   ]
  },
  {
   "cell_type": "code",
   "execution_count": 1,
   "metadata": {
    "id": "C1ETOWnY6Krt"
   },
   "outputs": [],
   "source": [
    "import numpy as np\n",
    "import pandas as pd\n",
    "import matplotlib.pyplot as plt\n",
    "import seaborn as sns\n",
    "\n",
    "import warnings\n",
    "warnings.filterwarnings('ignore')"
   ]
  },
  {
   "cell_type": "markdown",
   "metadata": {
    "id": "tFk88cRf8VkF"
   },
   "source": [
    "# 2.Import Dataset"
   ]
  },
  {
   "cell_type": "code",
   "execution_count": 2,
   "metadata": {
    "id": "v24u3rxy8SMK"
   },
   "outputs": [],
   "source": [
    "anime = pd.read_csv(\"anime.csv\")\n",
    "anime_rating = pd.read_csv(\"rating.csv\")\n",
    "\n",
    "movie = pd.read_csv(\"movies.csv\")\n",
    "movie_rating = pd.read_csv(\"ratings.csv\")"
   ]
  },
  {
   "cell_type": "markdown",
   "metadata": {
    "id": "L3-04-d38sd2"
   },
   "source": [
    "# 3.Data Exploration"
   ]
  },
  {
   "cell_type": "markdown",
   "metadata": {
    "id": "09ymFdimFMoQ"
   },
   "source": [
    "#### 3.1 Anime dataset"
   ]
  },
  {
   "cell_type": "code",
   "execution_count": 3,
   "metadata": {
    "colab": {
     "base_uri": "https://localhost:8080/"
    },
    "id": "jlG3CG7D8gNk",
    "outputId": "ade3153b-d7d7-47c4-93a0-204d255959de"
   },
   "outputs": [
    {
     "data": {
      "text/html": [
       "<div>\n",
       "<style scoped>\n",
       "    .dataframe tbody tr th:only-of-type {\n",
       "        vertical-align: middle;\n",
       "    }\n",
       "\n",
       "    .dataframe tbody tr th {\n",
       "        vertical-align: top;\n",
       "    }\n",
       "\n",
       "    .dataframe thead th {\n",
       "        text-align: right;\n",
       "    }\n",
       "</style>\n",
       "<table border=\"1\" class=\"dataframe\">\n",
       "  <thead>\n",
       "    <tr style=\"text-align: right;\">\n",
       "      <th></th>\n",
       "      <th>anime_id</th>\n",
       "      <th>name</th>\n",
       "      <th>genre</th>\n",
       "      <th>type</th>\n",
       "      <th>episodes</th>\n",
       "      <th>rating</th>\n",
       "      <th>members</th>\n",
       "    </tr>\n",
       "  </thead>\n",
       "  <tbody>\n",
       "    <tr>\n",
       "      <th>0</th>\n",
       "      <td>32281</td>\n",
       "      <td>Kimi no Na wa.</td>\n",
       "      <td>Drama, Romance, School, Supernatural</td>\n",
       "      <td>Movie</td>\n",
       "      <td>1</td>\n",
       "      <td>9.37</td>\n",
       "      <td>200630</td>\n",
       "    </tr>\n",
       "    <tr>\n",
       "      <th>1</th>\n",
       "      <td>5114</td>\n",
       "      <td>Fullmetal Alchemist: Brotherhood</td>\n",
       "      <td>Action, Adventure, Drama, Fantasy, Magic, Mili...</td>\n",
       "      <td>TV</td>\n",
       "      <td>64</td>\n",
       "      <td>9.26</td>\n",
       "      <td>793665</td>\n",
       "    </tr>\n",
       "    <tr>\n",
       "      <th>2</th>\n",
       "      <td>28977</td>\n",
       "      <td>Gintama°</td>\n",
       "      <td>Action, Comedy, Historical, Parody, Samurai, S...</td>\n",
       "      <td>TV</td>\n",
       "      <td>51</td>\n",
       "      <td>9.25</td>\n",
       "      <td>114262</td>\n",
       "    </tr>\n",
       "    <tr>\n",
       "      <th>3</th>\n",
       "      <td>9253</td>\n",
       "      <td>Steins;Gate</td>\n",
       "      <td>Sci-Fi, Thriller</td>\n",
       "      <td>TV</td>\n",
       "      <td>24</td>\n",
       "      <td>9.17</td>\n",
       "      <td>673572</td>\n",
       "    </tr>\n",
       "    <tr>\n",
       "      <th>4</th>\n",
       "      <td>9969</td>\n",
       "      <td>Gintama&amp;#039;</td>\n",
       "      <td>Action, Comedy, Historical, Parody, Samurai, S...</td>\n",
       "      <td>TV</td>\n",
       "      <td>51</td>\n",
       "      <td>9.16</td>\n",
       "      <td>151266</td>\n",
       "    </tr>\n",
       "    <tr>\n",
       "      <th>...</th>\n",
       "      <td>...</td>\n",
       "      <td>...</td>\n",
       "      <td>...</td>\n",
       "      <td>...</td>\n",
       "      <td>...</td>\n",
       "      <td>...</td>\n",
       "      <td>...</td>\n",
       "    </tr>\n",
       "    <tr>\n",
       "      <th>12289</th>\n",
       "      <td>9316</td>\n",
       "      <td>Toushindai My Lover: Minami tai Mecha-Minami</td>\n",
       "      <td>Hentai</td>\n",
       "      <td>OVA</td>\n",
       "      <td>1</td>\n",
       "      <td>4.15</td>\n",
       "      <td>211</td>\n",
       "    </tr>\n",
       "    <tr>\n",
       "      <th>12290</th>\n",
       "      <td>5543</td>\n",
       "      <td>Under World</td>\n",
       "      <td>Hentai</td>\n",
       "      <td>OVA</td>\n",
       "      <td>1</td>\n",
       "      <td>4.28</td>\n",
       "      <td>183</td>\n",
       "    </tr>\n",
       "    <tr>\n",
       "      <th>12291</th>\n",
       "      <td>5621</td>\n",
       "      <td>Violence Gekiga David no Hoshi</td>\n",
       "      <td>Hentai</td>\n",
       "      <td>OVA</td>\n",
       "      <td>4</td>\n",
       "      <td>4.88</td>\n",
       "      <td>219</td>\n",
       "    </tr>\n",
       "    <tr>\n",
       "      <th>12292</th>\n",
       "      <td>6133</td>\n",
       "      <td>Violence Gekiga Shin David no Hoshi: Inma Dens...</td>\n",
       "      <td>Hentai</td>\n",
       "      <td>OVA</td>\n",
       "      <td>1</td>\n",
       "      <td>4.98</td>\n",
       "      <td>175</td>\n",
       "    </tr>\n",
       "    <tr>\n",
       "      <th>12293</th>\n",
       "      <td>26081</td>\n",
       "      <td>Yasuji no Pornorama: Yacchimae!!</td>\n",
       "      <td>Hentai</td>\n",
       "      <td>Movie</td>\n",
       "      <td>1</td>\n",
       "      <td>5.46</td>\n",
       "      <td>142</td>\n",
       "    </tr>\n",
       "  </tbody>\n",
       "</table>\n",
       "<p>12294 rows × 7 columns</p>\n",
       "</div>"
      ],
      "text/plain": [
       "       anime_id                                               name  \\\n",
       "0         32281                                     Kimi no Na wa.   \n",
       "1          5114                   Fullmetal Alchemist: Brotherhood   \n",
       "2         28977                                           Gintama°   \n",
       "3          9253                                        Steins;Gate   \n",
       "4          9969                                      Gintama&#039;   \n",
       "...         ...                                                ...   \n",
       "12289      9316       Toushindai My Lover: Minami tai Mecha-Minami   \n",
       "12290      5543                                        Under World   \n",
       "12291      5621                     Violence Gekiga David no Hoshi   \n",
       "12292      6133  Violence Gekiga Shin David no Hoshi: Inma Dens...   \n",
       "12293     26081                   Yasuji no Pornorama: Yacchimae!!   \n",
       "\n",
       "                                                   genre   type episodes  \\\n",
       "0                   Drama, Romance, School, Supernatural  Movie        1   \n",
       "1      Action, Adventure, Drama, Fantasy, Magic, Mili...     TV       64   \n",
       "2      Action, Comedy, Historical, Parody, Samurai, S...     TV       51   \n",
       "3                                       Sci-Fi, Thriller     TV       24   \n",
       "4      Action, Comedy, Historical, Parody, Samurai, S...     TV       51   \n",
       "...                                                  ...    ...      ...   \n",
       "12289                                             Hentai    OVA        1   \n",
       "12290                                             Hentai    OVA        1   \n",
       "12291                                             Hentai    OVA        4   \n",
       "12292                                             Hentai    OVA        1   \n",
       "12293                                             Hentai  Movie        1   \n",
       "\n",
       "       rating  members  \n",
       "0        9.37   200630  \n",
       "1        9.26   793665  \n",
       "2        9.25   114262  \n",
       "3        9.17   673572  \n",
       "4        9.16   151266  \n",
       "...       ...      ...  \n",
       "12289    4.15      211  \n",
       "12290    4.28      183  \n",
       "12291    4.88      219  \n",
       "12292    4.98      175  \n",
       "12293    5.46      142  \n",
       "\n",
       "[12294 rows x 7 columns]"
      ]
     },
     "execution_count": 3,
     "metadata": {},
     "output_type": "execute_result"
    }
   ],
   "source": [
    "anime"
   ]
  },
  {
   "cell_type": "code",
   "execution_count": 4,
   "metadata": {
    "colab": {
     "base_uri": "https://localhost:8080/"
    },
    "id": "5JIDwwKb8y5X",
    "outputId": "33889421-8cde-4e68-a479-e1305cf110b5"
   },
   "outputs": [
    {
     "name": "stdout",
     "output_type": "stream",
     "text": [
      "Informations About Anime Dataset :\n",
      "\n",
      "<class 'pandas.core.frame.DataFrame'>\n",
      "RangeIndex: 12294 entries, 0 to 12293\n",
      "Data columns (total 7 columns):\n",
      " #   Column    Non-Null Count  Dtype  \n",
      "---  ------    --------------  -----  \n",
      " 0   anime_id  12294 non-null  int64  \n",
      " 1   name      12294 non-null  object \n",
      " 2   genre     12232 non-null  object \n",
      " 3   type      12269 non-null  object \n",
      " 4   episodes  12294 non-null  object \n",
      " 5   rating    12064 non-null  float64\n",
      " 6   members   12294 non-null  int64  \n",
      "dtypes: float64(1), int64(2), object(4)\n",
      "memory usage: 672.5+ KB\n",
      "None\n"
     ]
    }
   ],
   "source": [
    "print(f\"Informations About Anime Dataset :\\n\")\n",
    "print(anime.info())"
   ]
  },
  {
   "cell_type": "code",
   "execution_count": 5,
   "metadata": {
    "colab": {
     "base_uri": "https://localhost:8080/"
    },
    "id": "7_77cZq69On9",
    "outputId": "bd79f552-a95e-477b-8dee-3490598fa31f"
   },
   "outputs": [
    {
     "name": "stdout",
     "output_type": "stream",
     "text": [
      "Summary of The Anime Dataset :\n"
     ]
    },
    {
     "data": {
      "text/html": [
       "<div>\n",
       "<style scoped>\n",
       "    .dataframe tbody tr th:only-of-type {\n",
       "        vertical-align: middle;\n",
       "    }\n",
       "\n",
       "    .dataframe tbody tr th {\n",
       "        vertical-align: top;\n",
       "    }\n",
       "\n",
       "    .dataframe thead th {\n",
       "        text-align: right;\n",
       "    }\n",
       "</style>\n",
       "<table border=\"1\" class=\"dataframe\">\n",
       "  <thead>\n",
       "    <tr style=\"text-align: right;\">\n",
       "      <th></th>\n",
       "      <th>anime_id</th>\n",
       "      <th>rating</th>\n",
       "      <th>members</th>\n",
       "    </tr>\n",
       "  </thead>\n",
       "  <tbody>\n",
       "    <tr>\n",
       "      <th>count</th>\n",
       "      <td>12294.000000</td>\n",
       "      <td>12064.000000</td>\n",
       "      <td>1.229400e+04</td>\n",
       "    </tr>\n",
       "    <tr>\n",
       "      <th>mean</th>\n",
       "      <td>14058.221653</td>\n",
       "      <td>6.473902</td>\n",
       "      <td>1.807134e+04</td>\n",
       "    </tr>\n",
       "    <tr>\n",
       "      <th>std</th>\n",
       "      <td>11455.294701</td>\n",
       "      <td>1.026746</td>\n",
       "      <td>5.482068e+04</td>\n",
       "    </tr>\n",
       "    <tr>\n",
       "      <th>min</th>\n",
       "      <td>1.000000</td>\n",
       "      <td>1.670000</td>\n",
       "      <td>5.000000e+00</td>\n",
       "    </tr>\n",
       "    <tr>\n",
       "      <th>25%</th>\n",
       "      <td>3484.250000</td>\n",
       "      <td>5.880000</td>\n",
       "      <td>2.250000e+02</td>\n",
       "    </tr>\n",
       "    <tr>\n",
       "      <th>50%</th>\n",
       "      <td>10260.500000</td>\n",
       "      <td>6.570000</td>\n",
       "      <td>1.550000e+03</td>\n",
       "    </tr>\n",
       "    <tr>\n",
       "      <th>75%</th>\n",
       "      <td>24794.500000</td>\n",
       "      <td>7.180000</td>\n",
       "      <td>9.437000e+03</td>\n",
       "    </tr>\n",
       "    <tr>\n",
       "      <th>max</th>\n",
       "      <td>34527.000000</td>\n",
       "      <td>10.000000</td>\n",
       "      <td>1.013917e+06</td>\n",
       "    </tr>\n",
       "  </tbody>\n",
       "</table>\n",
       "</div>"
      ],
      "text/plain": [
       "           anime_id        rating       members\n",
       "count  12294.000000  12064.000000  1.229400e+04\n",
       "mean   14058.221653      6.473902  1.807134e+04\n",
       "std    11455.294701      1.026746  5.482068e+04\n",
       "min        1.000000      1.670000  5.000000e+00\n",
       "25%     3484.250000      5.880000  2.250000e+02\n",
       "50%    10260.500000      6.570000  1.550000e+03\n",
       "75%    24794.500000      7.180000  9.437000e+03\n",
       "max    34527.000000     10.000000  1.013917e+06"
      ]
     },
     "execution_count": 5,
     "metadata": {},
     "output_type": "execute_result"
    }
   ],
   "source": [
    "print(f\"Summary of The Anime Dataset :\")\n",
    "anime.describe()"
   ]
  },
  {
   "cell_type": "code",
   "execution_count": 6,
   "metadata": {
    "colab": {
     "base_uri": "https://localhost:8080/"
    },
    "id": "DJ910enf9i3P",
    "outputId": "9045076b-ed43-4112-fe67-51899987a3bb"
   },
   "outputs": [
    {
     "data": {
      "text/html": [
       "<div>\n",
       "<style scoped>\n",
       "    .dataframe tbody tr th:only-of-type {\n",
       "        vertical-align: middle;\n",
       "    }\n",
       "\n",
       "    .dataframe tbody tr th {\n",
       "        vertical-align: top;\n",
       "    }\n",
       "\n",
       "    .dataframe thead th {\n",
       "        text-align: right;\n",
       "    }\n",
       "</style>\n",
       "<table border=\"1\" class=\"dataframe\">\n",
       "  <thead>\n",
       "    <tr style=\"text-align: right;\">\n",
       "      <th></th>\n",
       "      <th>name</th>\n",
       "      <th>genre</th>\n",
       "      <th>type</th>\n",
       "      <th>episodes</th>\n",
       "    </tr>\n",
       "  </thead>\n",
       "  <tbody>\n",
       "    <tr>\n",
       "      <th>count</th>\n",
       "      <td>12294</td>\n",
       "      <td>12232</td>\n",
       "      <td>12269</td>\n",
       "      <td>12294</td>\n",
       "    </tr>\n",
       "    <tr>\n",
       "      <th>unique</th>\n",
       "      <td>12292</td>\n",
       "      <td>3264</td>\n",
       "      <td>6</td>\n",
       "      <td>187</td>\n",
       "    </tr>\n",
       "    <tr>\n",
       "      <th>top</th>\n",
       "      <td>Shi Wan Ge Leng Xiaohua</td>\n",
       "      <td>Hentai</td>\n",
       "      <td>TV</td>\n",
       "      <td>1</td>\n",
       "    </tr>\n",
       "    <tr>\n",
       "      <th>freq</th>\n",
       "      <td>2</td>\n",
       "      <td>823</td>\n",
       "      <td>3787</td>\n",
       "      <td>5677</td>\n",
       "    </tr>\n",
       "  </tbody>\n",
       "</table>\n",
       "</div>"
      ],
      "text/plain": [
       "                           name   genre   type episodes\n",
       "count                     12294   12232  12269    12294\n",
       "unique                    12292    3264      6      187\n",
       "top     Shi Wan Ge Leng Xiaohua  Hentai     TV        1\n",
       "freq                          2     823   3787     5677"
      ]
     },
     "execution_count": 6,
     "metadata": {},
     "output_type": "execute_result"
    }
   ],
   "source": [
    "anime.describe(include=object)"
   ]
  },
  {
   "cell_type": "code",
   "execution_count": 7,
   "metadata": {
    "colab": {
     "base_uri": "https://localhost:8080/"
    },
    "id": "deJcM9eT9k3T",
    "outputId": "500e6ed0-e710-4963-d5f0-2d22809ad224"
   },
   "outputs": [
    {
     "name": "stdout",
     "output_type": "stream",
     "text": [
      "Null Values of Anime Dataset :\n"
     ]
    },
    {
     "data": {
      "text/html": [
       "<div>\n",
       "<style scoped>\n",
       "    .dataframe tbody tr th:only-of-type {\n",
       "        vertical-align: middle;\n",
       "    }\n",
       "\n",
       "    .dataframe tbody tr th {\n",
       "        vertical-align: top;\n",
       "    }\n",
       "\n",
       "    .dataframe thead th {\n",
       "        text-align: right;\n",
       "    }\n",
       "</style>\n",
       "<table border=\"1\" class=\"dataframe\">\n",
       "  <thead>\n",
       "    <tr style=\"text-align: right;\">\n",
       "      <th></th>\n",
       "      <th>0</th>\n",
       "    </tr>\n",
       "  </thead>\n",
       "  <tbody>\n",
       "    <tr>\n",
       "      <th>anime_id</th>\n",
       "      <td>0</td>\n",
       "    </tr>\n",
       "    <tr>\n",
       "      <th>name</th>\n",
       "      <td>0</td>\n",
       "    </tr>\n",
       "    <tr>\n",
       "      <th>genre</th>\n",
       "      <td>62</td>\n",
       "    </tr>\n",
       "    <tr>\n",
       "      <th>type</th>\n",
       "      <td>25</td>\n",
       "    </tr>\n",
       "    <tr>\n",
       "      <th>episodes</th>\n",
       "      <td>0</td>\n",
       "    </tr>\n",
       "    <tr>\n",
       "      <th>rating</th>\n",
       "      <td>230</td>\n",
       "    </tr>\n",
       "    <tr>\n",
       "      <th>members</th>\n",
       "      <td>0</td>\n",
       "    </tr>\n",
       "  </tbody>\n",
       "</table>\n",
       "</div>"
      ],
      "text/plain": [
       "            0\n",
       "anime_id    0\n",
       "name        0\n",
       "genre      62\n",
       "type       25\n",
       "episodes    0\n",
       "rating    230\n",
       "members     0"
      ]
     },
     "execution_count": 7,
     "metadata": {},
     "output_type": "execute_result"
    }
   ],
   "source": [
    "print(\"Null Values of Anime Dataset :\")\n",
    "anime.isna().sum().to_frame()"
   ]
  },
  {
   "cell_type": "markdown",
   "metadata": {
    "id": "28Jl_VYYrqj2"
   },
   "source": [
    "##### Delete all rows with missing values"
   ]
  },
  {
   "cell_type": "code",
   "execution_count": 8,
   "metadata": {
    "colab": {
     "base_uri": "https://localhost:8080/"
    },
    "id": "GAPMVOyo9rSa",
    "outputId": "3b57ad07-c30f-45ec-b548-af52081cb807"
   },
   "outputs": [
    {
     "name": "stdout",
     "output_type": "stream",
     "text": [
      "After Dropping, Null Values of Anime Dataset :\n"
     ]
    },
    {
     "data": {
      "text/html": [
       "<div>\n",
       "<style scoped>\n",
       "    .dataframe tbody tr th:only-of-type {\n",
       "        vertical-align: middle;\n",
       "    }\n",
       "\n",
       "    .dataframe tbody tr th {\n",
       "        vertical-align: top;\n",
       "    }\n",
       "\n",
       "    .dataframe thead th {\n",
       "        text-align: right;\n",
       "    }\n",
       "</style>\n",
       "<table border=\"1\" class=\"dataframe\">\n",
       "  <thead>\n",
       "    <tr style=\"text-align: right;\">\n",
       "      <th></th>\n",
       "      <th>0</th>\n",
       "    </tr>\n",
       "  </thead>\n",
       "  <tbody>\n",
       "    <tr>\n",
       "      <th>anime_id</th>\n",
       "      <td>0</td>\n",
       "    </tr>\n",
       "    <tr>\n",
       "      <th>name</th>\n",
       "      <td>0</td>\n",
       "    </tr>\n",
       "    <tr>\n",
       "      <th>genre</th>\n",
       "      <td>0</td>\n",
       "    </tr>\n",
       "    <tr>\n",
       "      <th>type</th>\n",
       "      <td>0</td>\n",
       "    </tr>\n",
       "    <tr>\n",
       "      <th>episodes</th>\n",
       "      <td>0</td>\n",
       "    </tr>\n",
       "    <tr>\n",
       "      <th>rating</th>\n",
       "      <td>0</td>\n",
       "    </tr>\n",
       "    <tr>\n",
       "      <th>members</th>\n",
       "      <td>0</td>\n",
       "    </tr>\n",
       "  </tbody>\n",
       "</table>\n",
       "</div>"
      ],
      "text/plain": [
       "          0\n",
       "anime_id  0\n",
       "name      0\n",
       "genre     0\n",
       "type      0\n",
       "episodes  0\n",
       "rating    0\n",
       "members   0"
      ]
     },
     "execution_count": 8,
     "metadata": {},
     "output_type": "execute_result"
    }
   ],
   "source": [
    "print(\"After Dropping, Null Values of Anime Dataset :\")\n",
    "anime.dropna(axis = 0, inplace = True)\n",
    "anime.isna().sum().to_frame()"
   ]
  },
  {
   "cell_type": "markdown",
   "metadata": {
    "id": "9aTyLdDEFSJ2"
   },
   "source": [
    "#### 3.2 Anime Rating dataset"
   ]
  },
  {
   "cell_type": "code",
   "execution_count": 9,
   "metadata": {
    "colab": {
     "base_uri": "https://localhost:8080/"
    },
    "id": "IQW4x37Vjaq9",
    "outputId": "755f282a-dcc5-49b2-e281-9aedcc335cad"
   },
   "outputs": [
    {
     "name": "stdout",
     "output_type": "stream",
     "text": [
      "Shape of The Rating Dataset : (7813737, 3)\n",
      "\n",
      "Glimpse of The Dataset :\n"
     ]
    },
    {
     "data": {
      "text/html": [
       "<div>\n",
       "<style scoped>\n",
       "    .dataframe tbody tr th:only-of-type {\n",
       "        vertical-align: middle;\n",
       "    }\n",
       "\n",
       "    .dataframe tbody tr th {\n",
       "        vertical-align: top;\n",
       "    }\n",
       "\n",
       "    .dataframe thead th {\n",
       "        text-align: right;\n",
       "    }\n",
       "</style>\n",
       "<table border=\"1\" class=\"dataframe\">\n",
       "  <thead>\n",
       "    <tr style=\"text-align: right;\">\n",
       "      <th></th>\n",
       "      <th>user_id</th>\n",
       "      <th>anime_id</th>\n",
       "      <th>rating</th>\n",
       "    </tr>\n",
       "  </thead>\n",
       "  <tbody>\n",
       "    <tr>\n",
       "      <th>0</th>\n",
       "      <td>1</td>\n",
       "      <td>20</td>\n",
       "      <td>-1</td>\n",
       "    </tr>\n",
       "    <tr>\n",
       "      <th>1</th>\n",
       "      <td>1</td>\n",
       "      <td>24</td>\n",
       "      <td>-1</td>\n",
       "    </tr>\n",
       "    <tr>\n",
       "      <th>2</th>\n",
       "      <td>1</td>\n",
       "      <td>79</td>\n",
       "      <td>-1</td>\n",
       "    </tr>\n",
       "    <tr>\n",
       "      <th>3</th>\n",
       "      <td>1</td>\n",
       "      <td>226</td>\n",
       "      <td>-1</td>\n",
       "    </tr>\n",
       "    <tr>\n",
       "      <th>4</th>\n",
       "      <td>1</td>\n",
       "      <td>241</td>\n",
       "      <td>-1</td>\n",
       "    </tr>\n",
       "  </tbody>\n",
       "</table>\n",
       "</div>"
      ],
      "text/plain": [
       "   user_id  anime_id  rating\n",
       "0        1        20      -1\n",
       "1        1        24      -1\n",
       "2        1        79      -1\n",
       "3        1       226      -1\n",
       "4        1       241      -1"
      ]
     },
     "execution_count": 9,
     "metadata": {},
     "output_type": "execute_result"
    }
   ],
   "source": [
    "print(f\"Shape of The Rating Dataset : {anime_rating.shape}\")\n",
    "print(f\"\\nGlimpse of The Dataset :\")\n",
    "anime_rating.head()"
   ]
  },
  {
   "cell_type": "code",
   "execution_count": 10,
   "metadata": {
    "colab": {
     "base_uri": "https://localhost:8080/"
    },
    "id": "uSbLVEWl-Wwj",
    "outputId": "5d5b97aa-1a8b-4bf3-8071-a980e4c34cfd"
   },
   "outputs": [
    {
     "name": "stdout",
     "output_type": "stream",
     "text": [
      "Null Values of Rating Dataset :\n"
     ]
    },
    {
     "data": {
      "text/html": [
       "<div>\n",
       "<style scoped>\n",
       "    .dataframe tbody tr th:only-of-type {\n",
       "        vertical-align: middle;\n",
       "    }\n",
       "\n",
       "    .dataframe tbody tr th {\n",
       "        vertical-align: top;\n",
       "    }\n",
       "\n",
       "    .dataframe thead th {\n",
       "        text-align: right;\n",
       "    }\n",
       "</style>\n",
       "<table border=\"1\" class=\"dataframe\">\n",
       "  <thead>\n",
       "    <tr style=\"text-align: right;\">\n",
       "      <th></th>\n",
       "      <th>0</th>\n",
       "    </tr>\n",
       "  </thead>\n",
       "  <tbody>\n",
       "    <tr>\n",
       "      <th>user_id</th>\n",
       "      <td>0</td>\n",
       "    </tr>\n",
       "    <tr>\n",
       "      <th>anime_id</th>\n",
       "      <td>0</td>\n",
       "    </tr>\n",
       "    <tr>\n",
       "      <th>rating</th>\n",
       "      <td>0</td>\n",
       "    </tr>\n",
       "  </tbody>\n",
       "</table>\n",
       "</div>"
      ],
      "text/plain": [
       "          0\n",
       "user_id   0\n",
       "anime_id  0\n",
       "rating    0"
      ]
     },
     "execution_count": 10,
     "metadata": {},
     "output_type": "execute_result"
    }
   ],
   "source": [
    "print(\"Null Values of Rating Dataset :\")\n",
    "anime_rating.isna().sum().to_frame()"
   ]
  },
  {
   "cell_type": "code",
   "execution_count": 11,
   "metadata": {
    "colab": {
     "base_uri": "https://localhost:8080/"
    },
    "id": "g_sD8spRjmOG",
    "outputId": "deb34ad0-0b60-433a-d0a8-f9f389124b36"
   },
   "outputs": [
    {
     "name": "stdout",
     "output_type": "stream",
     "text": [
      "Summary of The Rating Dataset :\n"
     ]
    },
    {
     "data": {
      "text/html": [
       "<div>\n",
       "<style scoped>\n",
       "    .dataframe tbody tr th:only-of-type {\n",
       "        vertical-align: middle;\n",
       "    }\n",
       "\n",
       "    .dataframe tbody tr th {\n",
       "        vertical-align: top;\n",
       "    }\n",
       "\n",
       "    .dataframe thead th {\n",
       "        text-align: right;\n",
       "    }\n",
       "</style>\n",
       "<table border=\"1\" class=\"dataframe\">\n",
       "  <thead>\n",
       "    <tr style=\"text-align: right;\">\n",
       "      <th></th>\n",
       "      <th>user_id</th>\n",
       "      <th>anime_id</th>\n",
       "      <th>rating</th>\n",
       "    </tr>\n",
       "  </thead>\n",
       "  <tbody>\n",
       "    <tr>\n",
       "      <th>count</th>\n",
       "      <td>7.813737e+06</td>\n",
       "      <td>7.813737e+06</td>\n",
       "      <td>7.813737e+06</td>\n",
       "    </tr>\n",
       "    <tr>\n",
       "      <th>mean</th>\n",
       "      <td>3.672796e+04</td>\n",
       "      <td>8.909072e+03</td>\n",
       "      <td>6.144030e+00</td>\n",
       "    </tr>\n",
       "    <tr>\n",
       "      <th>std</th>\n",
       "      <td>2.099795e+04</td>\n",
       "      <td>8.883950e+03</td>\n",
       "      <td>3.727800e+00</td>\n",
       "    </tr>\n",
       "    <tr>\n",
       "      <th>min</th>\n",
       "      <td>1.000000e+00</td>\n",
       "      <td>1.000000e+00</td>\n",
       "      <td>-1.000000e+00</td>\n",
       "    </tr>\n",
       "    <tr>\n",
       "      <th>25%</th>\n",
       "      <td>1.897400e+04</td>\n",
       "      <td>1.240000e+03</td>\n",
       "      <td>6.000000e+00</td>\n",
       "    </tr>\n",
       "    <tr>\n",
       "      <th>50%</th>\n",
       "      <td>3.679100e+04</td>\n",
       "      <td>6.213000e+03</td>\n",
       "      <td>7.000000e+00</td>\n",
       "    </tr>\n",
       "    <tr>\n",
       "      <th>75%</th>\n",
       "      <td>5.475700e+04</td>\n",
       "      <td>1.409300e+04</td>\n",
       "      <td>9.000000e+00</td>\n",
       "    </tr>\n",
       "    <tr>\n",
       "      <th>max</th>\n",
       "      <td>7.351600e+04</td>\n",
       "      <td>3.451900e+04</td>\n",
       "      <td>1.000000e+01</td>\n",
       "    </tr>\n",
       "  </tbody>\n",
       "</table>\n",
       "</div>"
      ],
      "text/plain": [
       "            user_id      anime_id        rating\n",
       "count  7.813737e+06  7.813737e+06  7.813737e+06\n",
       "mean   3.672796e+04  8.909072e+03  6.144030e+00\n",
       "std    2.099795e+04  8.883950e+03  3.727800e+00\n",
       "min    1.000000e+00  1.000000e+00 -1.000000e+00\n",
       "25%    1.897400e+04  1.240000e+03  6.000000e+00\n",
       "50%    3.679100e+04  6.213000e+03  7.000000e+00\n",
       "75%    5.475700e+04  1.409300e+04  9.000000e+00\n",
       "max    7.351600e+04  3.451900e+04  1.000000e+01"
      ]
     },
     "execution_count": 11,
     "metadata": {},
     "output_type": "execute_result"
    }
   ],
   "source": [
    "print(f\"Summary of The Rating Dataset :\")\n",
    "anime_rating.describe()"
   ]
  },
  {
   "cell_type": "markdown",
   "metadata": {
    "id": "FM40Ss_5FXa_"
   },
   "source": [
    "#### 3.3 Anime Full dataset"
   ]
  },
  {
   "cell_type": "markdown",
   "metadata": {
    "id": "sqmga7Uor6wj"
   },
   "source": [
    "##### Merge the anime and rating dataset"
   ]
  },
  {
   "cell_type": "code",
   "execution_count": 12,
   "metadata": {
    "colab": {
     "base_uri": "https://localhost:8080/",
     "height": 261
    },
    "id": "a3IlOy4q-aDK",
    "outputId": "ecb242c8-191b-415c-dedf-be189f682b2e"
   },
   "outputs": [
    {
     "name": "stdout",
     "output_type": "stream",
     "text": [
      "Shape of The Merged Dataset : (7813611, 9)\n",
      "\n",
      "Glimpse of The Merged Dataset :\n"
     ]
    },
    {
     "data": {
      "text/html": [
       "<div>\n",
       "<style scoped>\n",
       "    .dataframe tbody tr th:only-of-type {\n",
       "        vertical-align: middle;\n",
       "    }\n",
       "\n",
       "    .dataframe tbody tr th {\n",
       "        vertical-align: top;\n",
       "    }\n",
       "\n",
       "    .dataframe thead th {\n",
       "        text-align: right;\n",
       "    }\n",
       "</style>\n",
       "<table border=\"1\" class=\"dataframe\">\n",
       "  <thead>\n",
       "    <tr style=\"text-align: right;\">\n",
       "      <th></th>\n",
       "      <th>anime_id</th>\n",
       "      <th>name</th>\n",
       "      <th>genre</th>\n",
       "      <th>type</th>\n",
       "      <th>episodes</th>\n",
       "      <th>rating</th>\n",
       "      <th>members</th>\n",
       "      <th>user_id</th>\n",
       "      <th>user_rating</th>\n",
       "    </tr>\n",
       "  </thead>\n",
       "  <tbody>\n",
       "    <tr>\n",
       "      <th>0</th>\n",
       "      <td>32281</td>\n",
       "      <td>Kimi no Na wa.</td>\n",
       "      <td>Drama, Romance, School, Supernatural</td>\n",
       "      <td>Movie</td>\n",
       "      <td>1</td>\n",
       "      <td>9.37</td>\n",
       "      <td>200630</td>\n",
       "      <td>99</td>\n",
       "      <td>5</td>\n",
       "    </tr>\n",
       "    <tr>\n",
       "      <th>1</th>\n",
       "      <td>32281</td>\n",
       "      <td>Kimi no Na wa.</td>\n",
       "      <td>Drama, Romance, School, Supernatural</td>\n",
       "      <td>Movie</td>\n",
       "      <td>1</td>\n",
       "      <td>9.37</td>\n",
       "      <td>200630</td>\n",
       "      <td>152</td>\n",
       "      <td>10</td>\n",
       "    </tr>\n",
       "    <tr>\n",
       "      <th>2</th>\n",
       "      <td>32281</td>\n",
       "      <td>Kimi no Na wa.</td>\n",
       "      <td>Drama, Romance, School, Supernatural</td>\n",
       "      <td>Movie</td>\n",
       "      <td>1</td>\n",
       "      <td>9.37</td>\n",
       "      <td>200630</td>\n",
       "      <td>244</td>\n",
       "      <td>10</td>\n",
       "    </tr>\n",
       "    <tr>\n",
       "      <th>3</th>\n",
       "      <td>32281</td>\n",
       "      <td>Kimi no Na wa.</td>\n",
       "      <td>Drama, Romance, School, Supernatural</td>\n",
       "      <td>Movie</td>\n",
       "      <td>1</td>\n",
       "      <td>9.37</td>\n",
       "      <td>200630</td>\n",
       "      <td>271</td>\n",
       "      <td>10</td>\n",
       "    </tr>\n",
       "    <tr>\n",
       "      <th>4</th>\n",
       "      <td>32281</td>\n",
       "      <td>Kimi no Na wa.</td>\n",
       "      <td>Drama, Romance, School, Supernatural</td>\n",
       "      <td>Movie</td>\n",
       "      <td>1</td>\n",
       "      <td>9.37</td>\n",
       "      <td>200630</td>\n",
       "      <td>278</td>\n",
       "      <td>-1</td>\n",
       "    </tr>\n",
       "  </tbody>\n",
       "</table>\n",
       "</div>"
      ],
      "text/plain": [
       "   anime_id            name                                 genre   type  \\\n",
       "0     32281  Kimi no Na wa.  Drama, Romance, School, Supernatural  Movie   \n",
       "1     32281  Kimi no Na wa.  Drama, Romance, School, Supernatural  Movie   \n",
       "2     32281  Kimi no Na wa.  Drama, Romance, School, Supernatural  Movie   \n",
       "3     32281  Kimi no Na wa.  Drama, Romance, School, Supernatural  Movie   \n",
       "4     32281  Kimi no Na wa.  Drama, Romance, School, Supernatural  Movie   \n",
       "\n",
       "  episodes  rating  members  user_id  user_rating  \n",
       "0        1    9.37   200630       99            5  \n",
       "1        1    9.37   200630      152           10  \n",
       "2        1    9.37   200630      244           10  \n",
       "3        1    9.37   200630      271           10  \n",
       "4        1    9.37   200630      278           -1  "
      ]
     },
     "execution_count": 12,
     "metadata": {},
     "output_type": "execute_result"
    }
   ],
   "source": [
    "anime_fulldata = pd.merge(anime,anime_rating,on=\"anime_id\",suffixes= [None, \"_user\"])\n",
    "anime_fulldata = anime_fulldata.rename(columns={\"rating_user\": \"user_rating\"})\n",
    "\n",
    "print(f\"Shape of The Merged Dataset : {anime_fulldata.shape}\")\n",
    "print(f\"\\nGlimpse of The Merged Dataset :\")\n",
    "\n",
    "anime_fulldata.head()"
   ]
  },
  {
   "cell_type": "code",
   "execution_count": 13,
   "metadata": {
    "colab": {
     "base_uri": "https://localhost:8080/"
    },
    "id": "sm40J-axeGXu",
    "outputId": "e70a99f3-835b-4970-85f2-f36b1af38566"
   },
   "outputs": [
    {
     "data": {
      "text/plain": [
       "anime_id       0\n",
       "name           0\n",
       "genre          0\n",
       "type           0\n",
       "episodes       0\n",
       "rating         0\n",
       "members        0\n",
       "user_id        0\n",
       "user_rating    0\n",
       "dtype: int64"
      ]
     },
     "execution_count": 13,
     "metadata": {},
     "output_type": "execute_result"
    }
   ],
   "source": [
    "anime_fulldata.isna().sum()"
   ]
  },
  {
   "cell_type": "code",
   "execution_count": 14,
   "metadata": {
    "id": "9RDwfnRs-iGw"
   },
   "outputs": [],
   "source": [
    "sns.set_style(\"white\")\n",
    "sns.set_context(\"poster\",font_scale = .7)\n",
    "\n",
    "palette = [\"#1d7874\",\"#679289\",\"#f4c095\",\"#ee2e31\",\"#ffb563\",\"#918450\",\"#f85e00\",\"#a41623\",\"#9a031e\",\"#d6d6d6\",\"#ffee32\",\"#ffd100\",\"#333533\",\"#202020\"]\n"
   ]
  },
  {
   "cell_type": "markdown",
   "metadata": {
    "id": "TKiMV-j3sILd"
   },
   "source": [
    "##### List animation types in the order in which they appear most frequently"
   ]
  },
  {
   "cell_type": "code",
   "execution_count": 15,
   "metadata": {
    "colab": {
     "base_uri": "https://localhost:8080/"
    },
    "id": "9GwVz7eeK4pg",
    "outputId": "fd42dfb4-8cae-49e9-8a0c-60bf2edf2a0f"
   },
   "outputs": [
    {
     "name": "stdout",
     "output_type": "stream",
     "text": [
      "Anime Categories :\n"
     ]
    },
    {
     "data": {
      "text/html": [
       "<div>\n",
       "<style scoped>\n",
       "    .dataframe tbody tr th:only-of-type {\n",
       "        vertical-align: middle;\n",
       "    }\n",
       "\n",
       "    .dataframe tbody tr th {\n",
       "        vertical-align: top;\n",
       "    }\n",
       "\n",
       "    .dataframe thead th {\n",
       "        text-align: right;\n",
       "    }\n",
       "</style>\n",
       "<table border=\"1\" class=\"dataframe\">\n",
       "  <thead>\n",
       "    <tr style=\"text-align: right;\">\n",
       "      <th></th>\n",
       "      <th>type</th>\n",
       "    </tr>\n",
       "  </thead>\n",
       "  <tbody>\n",
       "    <tr>\n",
       "      <th>TV</th>\n",
       "      <td>3402</td>\n",
       "    </tr>\n",
       "    <tr>\n",
       "      <th>OVA</th>\n",
       "      <td>3090</td>\n",
       "    </tr>\n",
       "    <tr>\n",
       "      <th>Movie</th>\n",
       "      <td>2111</td>\n",
       "    </tr>\n",
       "    <tr>\n",
       "      <th>Special</th>\n",
       "      <td>1581</td>\n",
       "    </tr>\n",
       "    <tr>\n",
       "      <th>ONA</th>\n",
       "      <td>526</td>\n",
       "    </tr>\n",
       "    <tr>\n",
       "      <th>Music</th>\n",
       "      <td>451</td>\n",
       "    </tr>\n",
       "  </tbody>\n",
       "</table>\n",
       "</div>"
      ],
      "text/plain": [
       "         type\n",
       "TV       3402\n",
       "OVA      3090\n",
       "Movie    2111\n",
       "Special  1581\n",
       "ONA       526\n",
       "Music     451"
      ]
     },
     "execution_count": 15,
     "metadata": {},
     "output_type": "execute_result"
    }
   ],
   "source": [
    "# Animation Category\n",
    "top_anime = anime_fulldata.copy()\n",
    "top_anime.drop_duplicates(subset =\"name\", keep = \"first\", inplace = True)\n",
    "top_anime_temp1 = top_anime.sort_values([\"members\"],ascending=False)\n",
    "print(\"Anime Categories :\")\n",
    "top_anime_temp1['type'].value_counts().to_frame()"
   ]
  },
  {
   "cell_type": "markdown",
   "metadata": {
    "id": "_mNTftm2sKuv"
   },
   "source": [
    "##### TV, OVA, Movie are top3 animation types"
   ]
  },
  {
   "cell_type": "markdown",
   "metadata": {
    "id": "DWy6WFLYsQYw"
   },
   "source": [
    "##### Show the animation type distribution as a percentage in pie plot"
   ]
  },
  {
   "cell_type": "code",
   "execution_count": 16,
   "metadata": {
    "colab": {
     "base_uri": "https://localhost:8080/"
    },
    "id": "sUixyJolAXIg",
    "outputId": "922f8473-dd23-4282-8b80-387293d94178"
   },
   "outputs": [
    {
     "data": {
      "image/png": "[encoded data removed]",
      "text/plain": [
       "<Figure size 864x864 with 1 Axes>"
      ]
     },
     "metadata": {},
     "output_type": "display_data"
    }
   ],
   "source": [
    "plt.subplots(figsize=(12, 12))\n",
    "\n",
    "labels = \"TV\",\"OVA\",\"Movie\",\"Special\",\"ONA\",\"Music\"\n",
    "size = 0.5\n",
    "\n",
    "wedges, texts, autotexts = plt.pie([len(top_anime_temp1[top_anime_temp1[\"type\"]==\"TV\"][\"type\"]),\n",
    "                                    len(top_anime_temp1[top_anime_temp1[\"type\"]==\"OVA\"][\"type\"]),\n",
    "                                    len(top_anime_temp1[top_anime_temp1[\"type\"]==\"Movie\"][\"type\"]),\n",
    "                                    len(top_anime_temp1[top_anime_temp1[\"type\"]==\"Special\"][\"type\"]),\n",
    "                                    len(top_anime_temp1[top_anime_temp1[\"type\"]==\"ONA\"][\"type\"]),\n",
    "                                    len(top_anime_temp1[top_anime_temp1[\"type\"]==\"Music\"][\"type\"])],\n",
    "                                    explode = (0,0,0,0,0,0),\n",
    "                                    textprops=dict(size= 20, color= \"white\"),\n",
    "                                    autopct=\"%.2f%%\", \n",
    "                                    pctdistance = 0.7,\n",
    "                                    radius=.9, \n",
    "                                    colors = palette, \n",
    "                                    shadow = True,\n",
    "                                    wedgeprops=dict(width = size, edgecolor = \"#1c1c1c\", \n",
    "                                    linewidth = 4),\n",
    "                                    startangle = 0)\n",
    "\n",
    "plt.legend(wedges, labels, title=\"Category\",loc=\"center left\",bbox_to_anchor=(1, 0, 0.5, 1))\n",
    "plt.title(\"\\nAnime Categories Distribution\",fontsize=20)\n",
    "plt.show()"
   ]
  },
  {
   "cell_type": "markdown",
   "metadata": {
    "id": "zvEkeRtysWwB"
   },
   "source": [
    "##### Show the animation's average ratings distribution as a bar graph\n",
    "#####  \n",
    "###### - Most of the Anime ratings are spread between 5.5 - 8.0\n",
    "###### - Most of the users ratings are spread between 6.0 - 10.0\n",
    "###### - The mode of the users ratings distribution is around 7.0 - 8.0\n",
    "###### - Both the distribution are left skewed\n",
    "###### - Users rating(-1) is an outlier in ratings of users which can be discarded"
   ]
  },
  {
   "cell_type": "code",
   "execution_count": 17,
   "metadata": {
    "colab": {
     "base_uri": "https://localhost:8080/"
    },
    "id": "MCq-qCcxCQVn",
    "outputId": "b3eab436-b99f-4025-ae0c-ee2451b36afb"
   },
   "outputs": [
    {
     "data": {
      "image/png": "[encoded data removed]",
      "text/plain": [
       "<Figure size 1440x1152 with 2 Axes>"
      ]
     },
     "metadata": {},
     "output_type": "display_data"
    }
   ],
   "source": [
    "top_anime_temp2 = top_anime.sort_values([\"rating\"],ascending=False)\n",
    "\n",
    "_, axs = plt.subplots(2,1,figsize=(20,16),sharex=False,sharey=False)\n",
    "plt.tight_layout(pad=6.0)\n",
    "\n",
    "sns.histplot(top_anime_temp2[\"rating\"],color=palette[11],kde=True,ax=axs[0],bins=20,alpha=1,fill=True,edgecolor=palette[12])\n",
    "axs[0].lines[0].set_color(palette[12])\n",
    "axs[0].set_title(\"\\nAnime's Average Ratings Distribution\\n\",fontsize = 25)\n",
    "axs[0].set_xlabel(\"Rating\\n\", fontsize = 20)\n",
    "axs[0].set_ylabel(\"Total\", fontsize = 20)\n",
    "\n",
    "sns.histplot(anime_fulldata[\"user_rating\"],color=palette[12],kde=True,ax=axs[1],bins=\"auto\",alpha=1,fill=True)\n",
    "axs[1].lines[0].set_color(palette[11])\n",
    "# axs[1].set_yscale(\"log\")\n",
    "axs[1].set_title(\"\\n\\n\\nUsers Anime Ratings Distribution\\n\",fontsize = 25)\n",
    "axs[1].set_xlabel(\"Rating\", fontsize = 20)\n",
    "axs[1].set_ylabel(\"Total\", fontsize = 20)\n",
    "\n",
    "sns.despine(left=True, bottom=True)\n",
    "plt.show()"
   ]
  },
  {
   "cell_type": "markdown",
   "metadata": {
    "id": "_w6sdgJisqvx"
   },
   "source": [
    "##### List animation types in the order in which they appear most frequently"
   ]
  },
  {
   "cell_type": "code",
   "execution_count": 18,
   "metadata": {
    "colab": {
     "base_uri": "https://localhost:8080/"
    },
    "id": "o3NYdG8CHBHm",
    "outputId": "499fef2e-da0d-4569-88e5-ec296d649999"
   },
   "outputs": [
    {
     "name": "stdout",
     "output_type": "stream",
     "text": [
      "Total unique genres are 43\n",
      "Occurances of unique genres :\n"
     ]
    },
    {
     "data": {
      "text/html": [
       "<div>\n",
       "<style scoped>\n",
       "    .dataframe tbody tr th:only-of-type {\n",
       "        vertical-align: middle;\n",
       "    }\n",
       "\n",
       "    .dataframe tbody tr th {\n",
       "        vertical-align: top;\n",
       "    }\n",
       "\n",
       "    .dataframe thead th {\n",
       "        text-align: right;\n",
       "    }\n",
       "</style>\n",
       "<table border=\"1\" class=\"dataframe\">\n",
       "  <thead>\n",
       "    <tr style=\"text-align: right;\">\n",
       "      <th></th>\n",
       "      <th>genre</th>\n",
       "    </tr>\n",
       "  </thead>\n",
       "  <tbody>\n",
       "    <tr>\n",
       "      <th>Comedy</th>\n",
       "      <td>4271</td>\n",
       "    </tr>\n",
       "    <tr>\n",
       "      <th>Action</th>\n",
       "      <td>2686</td>\n",
       "    </tr>\n",
       "    <tr>\n",
       "      <th>Adventure</th>\n",
       "      <td>2197</td>\n",
       "    </tr>\n",
       "    <tr>\n",
       "      <th>Fantasy</th>\n",
       "      <td>2107</td>\n",
       "    </tr>\n",
       "    <tr>\n",
       "      <th>Sci-Fi</th>\n",
       "      <td>1981</td>\n",
       "    </tr>\n",
       "    <tr>\n",
       "      <th>Drama</th>\n",
       "      <td>1857</td>\n",
       "    </tr>\n",
       "    <tr>\n",
       "      <th>Shounen</th>\n",
       "      <td>1636</td>\n",
       "    </tr>\n",
       "    <tr>\n",
       "      <th>Romance</th>\n",
       "      <td>1420</td>\n",
       "    </tr>\n",
       "    <tr>\n",
       "      <th>Kids</th>\n",
       "      <td>1306</td>\n",
       "    </tr>\n",
       "    <tr>\n",
       "      <th>School</th>\n",
       "      <td>1135</td>\n",
       "    </tr>\n",
       "    <tr>\n",
       "      <th>Slice Of Life</th>\n",
       "      <td>1115</td>\n",
       "    </tr>\n",
       "    <tr>\n",
       "      <th>Hentai</th>\n",
       "      <td>1095</td>\n",
       "    </tr>\n",
       "    <tr>\n",
       "      <th>Supernatural</th>\n",
       "      <td>964</td>\n",
       "    </tr>\n",
       "    <tr>\n",
       "      <th>Mecha</th>\n",
       "      <td>910</td>\n",
       "    </tr>\n",
       "    <tr>\n",
       "      <th>Music</th>\n",
       "      <td>763</td>\n",
       "    </tr>\n",
       "    <tr>\n",
       "      <th>Historical</th>\n",
       "      <td>719</td>\n",
       "    </tr>\n",
       "    <tr>\n",
       "      <th>Magic</th>\n",
       "      <td>712</td>\n",
       "    </tr>\n",
       "    <tr>\n",
       "      <th>Ecchi</th>\n",
       "      <td>619</td>\n",
       "    </tr>\n",
       "    <tr>\n",
       "      <th>Shoujo</th>\n",
       "      <td>576</td>\n",
       "    </tr>\n",
       "    <tr>\n",
       "      <th>Seinen</th>\n",
       "      <td>513</td>\n",
       "    </tr>\n",
       "    <tr>\n",
       "      <th>Sports</th>\n",
       "      <td>508</td>\n",
       "    </tr>\n",
       "    <tr>\n",
       "      <th>Mystery</th>\n",
       "      <td>472</td>\n",
       "    </tr>\n",
       "    <tr>\n",
       "      <th>Super Power</th>\n",
       "      <td>433</td>\n",
       "    </tr>\n",
       "    <tr>\n",
       "      <th>Military</th>\n",
       "      <td>410</td>\n",
       "    </tr>\n",
       "    <tr>\n",
       "      <th>Parody</th>\n",
       "      <td>379</td>\n",
       "    </tr>\n",
       "    <tr>\n",
       "      <th>Space</th>\n",
       "      <td>362</td>\n",
       "    </tr>\n",
       "    <tr>\n",
       "      <th>Horror</th>\n",
       "      <td>348</td>\n",
       "    </tr>\n",
       "    <tr>\n",
       "      <th>Harem</th>\n",
       "      <td>306</td>\n",
       "    </tr>\n",
       "    <tr>\n",
       "      <th>Demons</th>\n",
       "      <td>279</td>\n",
       "    </tr>\n",
       "    <tr>\n",
       "      <th>Martial Arts</th>\n",
       "      <td>246</td>\n",
       "    </tr>\n",
       "    <tr>\n",
       "      <th>Psychological</th>\n",
       "      <td>221</td>\n",
       "    </tr>\n",
       "    <tr>\n",
       "      <th>Dementia</th>\n",
       "      <td>200</td>\n",
       "    </tr>\n",
       "    <tr>\n",
       "      <th>Police</th>\n",
       "      <td>183</td>\n",
       "    </tr>\n",
       "    <tr>\n",
       "      <th>Game</th>\n",
       "      <td>161</td>\n",
       "    </tr>\n",
       "    <tr>\n",
       "      <th>Samurai</th>\n",
       "      <td>142</td>\n",
       "    </tr>\n",
       "    <tr>\n",
       "      <th>Vampire</th>\n",
       "      <td>97</td>\n",
       "    </tr>\n",
       "    <tr>\n",
       "      <th>Thriller</th>\n",
       "      <td>84</td>\n",
       "    </tr>\n",
       "    <tr>\n",
       "      <th>Cars</th>\n",
       "      <td>65</td>\n",
       "    </tr>\n",
       "    <tr>\n",
       "      <th>Shounen Ai</th>\n",
       "      <td>61</td>\n",
       "    </tr>\n",
       "    <tr>\n",
       "      <th>Shoujo Ai</th>\n",
       "      <td>54</td>\n",
       "    </tr>\n",
       "    <tr>\n",
       "      <th>Josei</th>\n",
       "      <td>52</td>\n",
       "    </tr>\n",
       "    <tr>\n",
       "      <th>Yuri</th>\n",
       "      <td>41</td>\n",
       "    </tr>\n",
       "    <tr>\n",
       "      <th>Yaoi</th>\n",
       "      <td>37</td>\n",
       "    </tr>\n",
       "  </tbody>\n",
       "</table>\n",
       "</div>"
      ],
      "text/plain": [
       "               genre\n",
       "Comedy          4271\n",
       "Action          2686\n",
       "Adventure       2197\n",
       "Fantasy         2107\n",
       "Sci-Fi          1981\n",
       "Drama           1857\n",
       "Shounen         1636\n",
       "Romance         1420\n",
       "Kids            1306\n",
       "School          1135\n",
       "Slice Of Life   1115\n",
       "Hentai          1095\n",
       "Supernatural     964\n",
       "Mecha            910\n",
       "Music            763\n",
       "Historical       719\n",
       "Magic            712\n",
       "Ecchi            619\n",
       "Shoujo           576\n",
       "Seinen           513\n",
       "Sports           508\n",
       "Mystery          472\n",
       "Super Power      433\n",
       "Military         410\n",
       "Parody           379\n",
       "Space            362\n",
       "Horror           348\n",
       "Harem            306\n",
       "Demons           279\n",
       "Martial Arts     246\n",
       "Psychological    221\n",
       "Dementia         200\n",
       "Police           183\n",
       "Game             161\n",
       "Samurai          142\n",
       "Vampire           97\n",
       "Thriller          84\n",
       "Cars              65\n",
       "Shounen Ai        61\n",
       "Shoujo Ai         54\n",
       "Josei             52\n",
       "Yuri              41\n",
       "Yaoi              37"
      ]
     },
     "execution_count": 18,
     "metadata": {},
     "output_type": "execute_result"
    }
   ],
   "source": [
    "top_anime_temp3 = top_anime[[\"genre\"]]\n",
    "top_anime_temp3[\"genre\"] = top_anime_temp3[\"genre\"].str.split(\", | , | ,\")\n",
    "top_anime_temp3 = top_anime_temp3.explode(\"genre\")\n",
    "top_anime_temp3[\"genre\"] = top_anime_temp3[\"genre\"].str.title()\n",
    "\n",
    "print(f'Total unique genres are {len(top_anime_temp3[\"genre\"].unique())}')\n",
    "print(f'Occurances of unique genres :')\n",
    "top_anime_temp3[\"genre\"].value_counts().to_frame()"
   ]
  },
  {
   "cell_type": "markdown",
   "metadata": {
    "id": "LPj3xRImsxkw"
   },
   "source": [
    "##### Comedy, Action, Adventure are top3 animation genre"
   ]
  },
  {
   "cell_type": "markdown",
   "metadata": {
    "id": "Su6sWPp3IS2q"
   },
   "source": [
    "#### 3.4 Movie dataset"
   ]
  },
  {
   "cell_type": "code",
   "execution_count": 19,
   "metadata": {
    "colab": {
     "base_uri": "https://localhost:8080/",
     "height": 206
    },
    "id": "13E_CovbIf9M",
    "outputId": "0428fe55-79ff-47dd-b86f-131aa26eee0f"
   },
   "outputs": [
    {
     "data": {
      "text/html": [
       "<div>\n",
       "<style scoped>\n",
       "    .dataframe tbody tr th:only-of-type {\n",
       "        vertical-align: middle;\n",
       "    }\n",
       "\n",
       "    .dataframe tbody tr th {\n",
       "        vertical-align: top;\n",
       "    }\n",
       "\n",
       "    .dataframe thead th {\n",
       "        text-align: right;\n",
       "    }\n",
       "</style>\n",
       "<table border=\"1\" class=\"dataframe\">\n",
       "  <thead>\n",
       "    <tr style=\"text-align: right;\">\n",
       "      <th></th>\n",
       "      <th>movie_id</th>\n",
       "      <th>name</th>\n",
       "      <th>genre</th>\n",
       "    </tr>\n",
       "  </thead>\n",
       "  <tbody>\n",
       "    <tr>\n",
       "      <th>0</th>\n",
       "      <td>1</td>\n",
       "      <td>Toy Story (1995)</td>\n",
       "      <td>Adventure|Animation|Children|Comedy|Fantasy</td>\n",
       "    </tr>\n",
       "    <tr>\n",
       "      <th>1</th>\n",
       "      <td>2</td>\n",
       "      <td>Jumanji (1995)</td>\n",
       "      <td>Adventure|Children|Fantasy</td>\n",
       "    </tr>\n",
       "    <tr>\n",
       "      <th>2</th>\n",
       "      <td>3</td>\n",
       "      <td>Grumpier Old Men (1995)</td>\n",
       "      <td>Comedy|Romance</td>\n",
       "    </tr>\n",
       "    <tr>\n",
       "      <th>3</th>\n",
       "      <td>4</td>\n",
       "      <td>Waiting to Exhale (1995)</td>\n",
       "      <td>Comedy|Drama|Romance</td>\n",
       "    </tr>\n",
       "    <tr>\n",
       "      <th>4</th>\n",
       "      <td>5</td>\n",
       "      <td>Father of the Bride Part II (1995)</td>\n",
       "      <td>Comedy</td>\n",
       "    </tr>\n",
       "  </tbody>\n",
       "</table>\n",
       "</div>"
      ],
      "text/plain": [
       "   movie_id                                name  \\\n",
       "0         1                    Toy Story (1995)   \n",
       "1         2                      Jumanji (1995)   \n",
       "2         3             Grumpier Old Men (1995)   \n",
       "3         4            Waiting to Exhale (1995)   \n",
       "4         5  Father of the Bride Part II (1995)   \n",
       "\n",
       "                                         genre  \n",
       "0  Adventure|Animation|Children|Comedy|Fantasy  \n",
       "1                   Adventure|Children|Fantasy  \n",
       "2                               Comedy|Romance  \n",
       "3                         Comedy|Drama|Romance  \n",
       "4                                       Comedy  "
      ]
     },
     "execution_count": 19,
     "metadata": {},
     "output_type": "execute_result"
    }
   ],
   "source": [
    "movie.rename(columns = {\"movieId\" : \"movie_id\", \"title\" : \"name\", \"genres\" : \"genre\"}, inplace = True)\n",
    "movie.head()"
   ]
  },
  {
   "cell_type": "code",
   "execution_count": 20,
   "metadata": {
    "colab": {
     "base_uri": "https://localhost:8080/",
     "height": 206
    },
    "id": "_DrDkNoiJzq0",
    "outputId": "1117762f-5b3a-49a7-c03f-9aa58cd81a8b"
   },
   "outputs": [],
   "source": [
    "#moive2 = movie.copy()\n",
    "#movie2 = pd.merge(movie,movie_rating, on = \"movie_id\")\n",
    "#movie = movie2.drop(labels = [\"user_id\",\"timestamp\"],axis=1)\n",
    "#movie.head()"
   ]
  },
  {
   "cell_type": "code",
   "execution_count": 21,
   "metadata": {
    "colab": {
     "base_uri": "https://localhost:8080/"
    },
    "id": "wnoRUB3cJ9tK",
    "outputId": "00b72bf4-d11b-43df-a98d-eab30b79818e"
   },
   "outputs": [
    {
     "name": "stdout",
     "output_type": "stream",
     "text": [
      "<class 'pandas.core.frame.DataFrame'>\n",
      "RangeIndex: 10329 entries, 0 to 10328\n",
      "Data columns (total 3 columns):\n",
      " #   Column    Non-Null Count  Dtype \n",
      "---  ------    --------------  ----- \n",
      " 0   movie_id  10329 non-null  int64 \n",
      " 1   name      10329 non-null  object\n",
      " 2   genre     10329 non-null  object\n",
      "dtypes: int64(1), object(2)\n",
      "memory usage: 242.2+ KB\n"
     ]
    }
   ],
   "source": [
    "movie.info()"
   ]
  },
  {
   "cell_type": "code",
   "execution_count": 22,
   "metadata": {
    "colab": {
     "base_uri": "https://localhost:8080/",
     "height": 300
    },
    "id": "kvRrmwfmKBOe",
    "outputId": "4cc995a8-df1a-4b31-a0ce-8a1832e071e6"
   },
   "outputs": [
    {
     "data": {
      "text/html": [
       "<div>\n",
       "<style scoped>\n",
       "    .dataframe tbody tr th:only-of-type {\n",
       "        vertical-align: middle;\n",
       "    }\n",
       "\n",
       "    .dataframe tbody tr th {\n",
       "        vertical-align: top;\n",
       "    }\n",
       "\n",
       "    .dataframe thead th {\n",
       "        text-align: right;\n",
       "    }\n",
       "</style>\n",
       "<table border=\"1\" class=\"dataframe\">\n",
       "  <thead>\n",
       "    <tr style=\"text-align: right;\">\n",
       "      <th></th>\n",
       "      <th>movie_id</th>\n",
       "    </tr>\n",
       "  </thead>\n",
       "  <tbody>\n",
       "    <tr>\n",
       "      <th>count</th>\n",
       "      <td>10329.000000</td>\n",
       "    </tr>\n",
       "    <tr>\n",
       "      <th>mean</th>\n",
       "      <td>31924.282893</td>\n",
       "    </tr>\n",
       "    <tr>\n",
       "      <th>std</th>\n",
       "      <td>37734.741149</td>\n",
       "    </tr>\n",
       "    <tr>\n",
       "      <th>min</th>\n",
       "      <td>1.000000</td>\n",
       "    </tr>\n",
       "    <tr>\n",
       "      <th>25%</th>\n",
       "      <td>3240.000000</td>\n",
       "    </tr>\n",
       "    <tr>\n",
       "      <th>50%</th>\n",
       "      <td>7088.000000</td>\n",
       "    </tr>\n",
       "    <tr>\n",
       "      <th>75%</th>\n",
       "      <td>59900.000000</td>\n",
       "    </tr>\n",
       "    <tr>\n",
       "      <th>max</th>\n",
       "      <td>149532.000000</td>\n",
       "    </tr>\n",
       "  </tbody>\n",
       "</table>\n",
       "</div>"
      ],
      "text/plain": [
       "            movie_id\n",
       "count   10329.000000\n",
       "mean    31924.282893\n",
       "std     37734.741149\n",
       "min         1.000000\n",
       "25%      3240.000000\n",
       "50%      7088.000000\n",
       "75%     59900.000000\n",
       "max    149532.000000"
      ]
     },
     "execution_count": 22,
     "metadata": {},
     "output_type": "execute_result"
    }
   ],
   "source": [
    "movie.describe()"
   ]
  },
  {
   "cell_type": "markdown",
   "metadata": {
    "id": "PEHjeFdHIYDD"
   },
   "source": [
    "#### 3.4 Movie Rating dataset"
   ]
  },
  {
   "cell_type": "code",
   "execution_count": 23,
   "metadata": {
    "colab": {
     "base_uri": "https://localhost:8080/"
    },
    "id": "vEPxW96nIzkz",
    "outputId": "cb969e2b-3b57-4e76-c080-6a221ba8e812"
   },
   "outputs": [
    {
     "data": {
      "text/html": [
       "<div>\n",
       "<style scoped>\n",
       "    .dataframe tbody tr th:only-of-type {\n",
       "        vertical-align: middle;\n",
       "    }\n",
       "\n",
       "    .dataframe tbody tr th {\n",
       "        vertical-align: top;\n",
       "    }\n",
       "\n",
       "    .dataframe thead th {\n",
       "        text-align: right;\n",
       "    }\n",
       "</style>\n",
       "<table border=\"1\" class=\"dataframe\">\n",
       "  <thead>\n",
       "    <tr style=\"text-align: right;\">\n",
       "      <th></th>\n",
       "      <th>user_id</th>\n",
       "      <th>movie_id</th>\n",
       "      <th>rating</th>\n",
       "      <th>timestamp</th>\n",
       "    </tr>\n",
       "  </thead>\n",
       "  <tbody>\n",
       "    <tr>\n",
       "      <th>0</th>\n",
       "      <td>1</td>\n",
       "      <td>16</td>\n",
       "      <td>4.0</td>\n",
       "      <td>1217897793</td>\n",
       "    </tr>\n",
       "    <tr>\n",
       "      <th>1</th>\n",
       "      <td>1</td>\n",
       "      <td>24</td>\n",
       "      <td>1.5</td>\n",
       "      <td>1217895807</td>\n",
       "    </tr>\n",
       "    <tr>\n",
       "      <th>2</th>\n",
       "      <td>1</td>\n",
       "      <td>32</td>\n",
       "      <td>4.0</td>\n",
       "      <td>1217896246</td>\n",
       "    </tr>\n",
       "    <tr>\n",
       "      <th>3</th>\n",
       "      <td>1</td>\n",
       "      <td>47</td>\n",
       "      <td>4.0</td>\n",
       "      <td>1217896556</td>\n",
       "    </tr>\n",
       "    <tr>\n",
       "      <th>4</th>\n",
       "      <td>1</td>\n",
       "      <td>50</td>\n",
       "      <td>4.0</td>\n",
       "      <td>1217896523</td>\n",
       "    </tr>\n",
       "  </tbody>\n",
       "</table>\n",
       "</div>"
      ],
      "text/plain": [
       "   user_id  movie_id  rating   timestamp\n",
       "0        1        16     4.0  1217897793\n",
       "1        1        24     1.5  1217895807\n",
       "2        1        32     4.0  1217896246\n",
       "3        1        47     4.0  1217896556\n",
       "4        1        50     4.0  1217896523"
      ]
     },
     "execution_count": 23,
     "metadata": {},
     "output_type": "execute_result"
    }
   ],
   "source": [
    "movie_rating.rename(columns = {\"userId\" : \"user_id\", \"movieId\" : \"movie_id\"}, inplace = True)\n",
    "movie_rating.head()"
   ]
  },
  {
   "cell_type": "code",
   "execution_count": 24,
   "metadata": {
    "colab": {
     "base_uri": "https://localhost:8080/"
    },
    "id": "GCSGMBBRI1bc",
    "outputId": "afcceefa-d10e-41bd-8b22-ca48d33e0795"
   },
   "outputs": [
    {
     "name": "stdout",
     "output_type": "stream",
     "text": [
      "<class 'pandas.core.frame.DataFrame'>\n",
      "RangeIndex: 105339 entries, 0 to 105338\n",
      "Data columns (total 4 columns):\n",
      " #   Column     Non-Null Count   Dtype  \n",
      "---  ------     --------------   -----  \n",
      " 0   user_id    105339 non-null  int64  \n",
      " 1   movie_id   105339 non-null  int64  \n",
      " 2   rating     105339 non-null  float64\n",
      " 3   timestamp  105339 non-null  int64  \n",
      "dtypes: float64(1), int64(3)\n",
      "memory usage: 3.2 MB\n"
     ]
    }
   ],
   "source": [
    "movie_rating.info()"
   ]
  },
  {
   "cell_type": "code",
   "execution_count": 25,
   "metadata": {
    "colab": {
     "base_uri": "https://localhost:8080/"
    },
    "id": "M2xKTsa7JTou",
    "outputId": "53b38dea-98fb-419a-87bc-05772ca9e5cf"
   },
   "outputs": [
    {
     "data": {
      "text/html": [
       "<div>\n",
       "<style scoped>\n",
       "    .dataframe tbody tr th:only-of-type {\n",
       "        vertical-align: middle;\n",
       "    }\n",
       "\n",
       "    .dataframe tbody tr th {\n",
       "        vertical-align: top;\n",
       "    }\n",
       "\n",
       "    .dataframe thead th {\n",
       "        text-align: right;\n",
       "    }\n",
       "</style>\n",
       "<table border=\"1\" class=\"dataframe\">\n",
       "  <thead>\n",
       "    <tr style=\"text-align: right;\">\n",
       "      <th></th>\n",
       "      <th>user_id</th>\n",
       "      <th>movie_id</th>\n",
       "      <th>rating</th>\n",
       "      <th>timestamp</th>\n",
       "    </tr>\n",
       "  </thead>\n",
       "  <tbody>\n",
       "    <tr>\n",
       "      <th>count</th>\n",
       "      <td>105339.000000</td>\n",
       "      <td>105339.000000</td>\n",
       "      <td>105339.000000</td>\n",
       "      <td>1.053390e+05</td>\n",
       "    </tr>\n",
       "    <tr>\n",
       "      <th>mean</th>\n",
       "      <td>364.924539</td>\n",
       "      <td>13381.312477</td>\n",
       "      <td>3.516850</td>\n",
       "      <td>1.130424e+09</td>\n",
       "    </tr>\n",
       "    <tr>\n",
       "      <th>std</th>\n",
       "      <td>197.486905</td>\n",
       "      <td>26170.456869</td>\n",
       "      <td>1.044872</td>\n",
       "      <td>1.802660e+08</td>\n",
       "    </tr>\n",
       "    <tr>\n",
       "      <th>min</th>\n",
       "      <td>1.000000</td>\n",
       "      <td>1.000000</td>\n",
       "      <td>0.500000</td>\n",
       "      <td>8.285650e+08</td>\n",
       "    </tr>\n",
       "    <tr>\n",
       "      <th>25%</th>\n",
       "      <td>192.000000</td>\n",
       "      <td>1073.000000</td>\n",
       "      <td>3.000000</td>\n",
       "      <td>9.711008e+08</td>\n",
       "    </tr>\n",
       "    <tr>\n",
       "      <th>50%</th>\n",
       "      <td>383.000000</td>\n",
       "      <td>2497.000000</td>\n",
       "      <td>3.500000</td>\n",
       "      <td>1.115154e+09</td>\n",
       "    </tr>\n",
       "    <tr>\n",
       "      <th>75%</th>\n",
       "      <td>557.000000</td>\n",
       "      <td>5991.000000</td>\n",
       "      <td>4.000000</td>\n",
       "      <td>1.275496e+09</td>\n",
       "    </tr>\n",
       "    <tr>\n",
       "      <th>max</th>\n",
       "      <td>668.000000</td>\n",
       "      <td>149532.000000</td>\n",
       "      <td>5.000000</td>\n",
       "      <td>1.452405e+09</td>\n",
       "    </tr>\n",
       "  </tbody>\n",
       "</table>\n",
       "</div>"
      ],
      "text/plain": [
       "             user_id       movie_id         rating     timestamp\n",
       "count  105339.000000  105339.000000  105339.000000  1.053390e+05\n",
       "mean      364.924539   13381.312477       3.516850  1.130424e+09\n",
       "std       197.486905   26170.456869       1.044872  1.802660e+08\n",
       "min         1.000000       1.000000       0.500000  8.285650e+08\n",
       "25%       192.000000    1073.000000       3.000000  9.711008e+08\n",
       "50%       383.000000    2497.000000       3.500000  1.115154e+09\n",
       "75%       557.000000    5991.000000       4.000000  1.275496e+09\n",
       "max       668.000000  149532.000000       5.000000  1.452405e+09"
      ]
     },
     "execution_count": 25,
     "metadata": {},
     "output_type": "execute_result"
    }
   ],
   "source": [
    "movie_rating.describe()"
   ]
  },
  {
   "cell_type": "markdown",
   "metadata": {
    "id": "UpzH4IRwIaPd"
   },
   "source": [
    "#### 3.5 Movie Full dataset"
   ]
  },
  {
   "cell_type": "code",
   "execution_count": 26,
   "metadata": {
    "colab": {
     "base_uri": "https://localhost:8080/"
    },
    "id": "shwAGvMNKIYc",
    "outputId": "3817b2d2-65be-4140-c911-136434756436"
   },
   "outputs": [
    {
     "name": "stdout",
     "output_type": "stream",
     "text": [
      "Shape of The Merged Dataset : (105339, 6)\n",
      "\n",
      "Glimpse of The Merged Dataset :\n"
     ]
    },
    {
     "data": {
      "text/html": [
       "<div>\n",
       "<style scoped>\n",
       "    .dataframe tbody tr th:only-of-type {\n",
       "        vertical-align: middle;\n",
       "    }\n",
       "\n",
       "    .dataframe tbody tr th {\n",
       "        vertical-align: top;\n",
       "    }\n",
       "\n",
       "    .dataframe thead th {\n",
       "        text-align: right;\n",
       "    }\n",
       "</style>\n",
       "<table border=\"1\" class=\"dataframe\">\n",
       "  <thead>\n",
       "    <tr style=\"text-align: right;\">\n",
       "      <th></th>\n",
       "      <th>movie_id</th>\n",
       "      <th>name</th>\n",
       "      <th>genre</th>\n",
       "      <th>user_id</th>\n",
       "      <th>rating</th>\n",
       "      <th>timestamp</th>\n",
       "    </tr>\n",
       "  </thead>\n",
       "  <tbody>\n",
       "    <tr>\n",
       "      <th>0</th>\n",
       "      <td>1</td>\n",
       "      <td>Toy Story (1995)</td>\n",
       "      <td>Adventure|Animation|Children|Comedy|Fantasy</td>\n",
       "      <td>2</td>\n",
       "      <td>5.0</td>\n",
       "      <td>859046895</td>\n",
       "    </tr>\n",
       "    <tr>\n",
       "      <th>1</th>\n",
       "      <td>1</td>\n",
       "      <td>Toy Story (1995)</td>\n",
       "      <td>Adventure|Animation|Children|Comedy|Fantasy</td>\n",
       "      <td>5</td>\n",
       "      <td>4.0</td>\n",
       "      <td>1303501039</td>\n",
       "    </tr>\n",
       "    <tr>\n",
       "      <th>2</th>\n",
       "      <td>1</td>\n",
       "      <td>Toy Story (1995)</td>\n",
       "      <td>Adventure|Animation|Children|Comedy|Fantasy</td>\n",
       "      <td>8</td>\n",
       "      <td>5.0</td>\n",
       "      <td>858610933</td>\n",
       "    </tr>\n",
       "    <tr>\n",
       "      <th>3</th>\n",
       "      <td>1</td>\n",
       "      <td>Toy Story (1995)</td>\n",
       "      <td>Adventure|Animation|Children|Comedy|Fantasy</td>\n",
       "      <td>11</td>\n",
       "      <td>4.0</td>\n",
       "      <td>850815810</td>\n",
       "    </tr>\n",
       "    <tr>\n",
       "      <th>4</th>\n",
       "      <td>1</td>\n",
       "      <td>Toy Story (1995)</td>\n",
       "      <td>Adventure|Animation|Children|Comedy|Fantasy</td>\n",
       "      <td>14</td>\n",
       "      <td>4.0</td>\n",
       "      <td>851766286</td>\n",
       "    </tr>\n",
       "  </tbody>\n",
       "</table>\n",
       "</div>"
      ],
      "text/plain": [
       "   movie_id              name                                        genre  \\\n",
       "0         1  Toy Story (1995)  Adventure|Animation|Children|Comedy|Fantasy   \n",
       "1         1  Toy Story (1995)  Adventure|Animation|Children|Comedy|Fantasy   \n",
       "2         1  Toy Story (1995)  Adventure|Animation|Children|Comedy|Fantasy   \n",
       "3         1  Toy Story (1995)  Adventure|Animation|Children|Comedy|Fantasy   \n",
       "4         1  Toy Story (1995)  Adventure|Animation|Children|Comedy|Fantasy   \n",
       "\n",
       "   user_id  rating   timestamp  \n",
       "0        2     5.0   859046895  \n",
       "1        5     4.0  1303501039  \n",
       "2        8     5.0   858610933  \n",
       "3       11     4.0   850815810  \n",
       "4       14     4.0   851766286  "
      ]
     },
     "execution_count": 26,
     "metadata": {},
     "output_type": "execute_result"
    }
   ],
   "source": [
    "movie_fulldata = pd.merge(movie,movie_rating,on=\"movie_id\",suffixes= [None, \"_user\"])\n",
    "movie_fulldata = movie_fulldata.rename(columns={\"rating_user\": \"user_rating\"})\n",
    "\n",
    "print(f\"Shape of The Merged Dataset : {movie_fulldata.shape}\")\n",
    "print(f\"\\nGlimpse of The Merged Dataset :\")\n",
    "\n",
    "movie_fulldata.head()"
   ]
  },
  {
   "cell_type": "markdown",
   "metadata": {
    "id": "dknErFdZHfJl"
   },
   "source": [
    "# 4.Data Preprocessing"
   ]
  },
  {
   "cell_type": "code",
   "execution_count": 27,
   "metadata": {
    "colab": {
     "base_uri": "https://localhost:8080/",
     "height": 350
    },
    "id": "-lG7ghsJHLaP",
    "outputId": "d791eca1-23b5-4870-cd93-9cfef66c6a0e"
   },
   "outputs": [
    {
     "name": "stdout",
     "output_type": "stream",
     "text": [
      "Null values after final pre-processing :\n"
     ]
    },
    {
     "data": {
      "text/html": [
       "<div>\n",
       "<style scoped>\n",
       "    .dataframe tbody tr th:only-of-type {\n",
       "        vertical-align: middle;\n",
       "    }\n",
       "\n",
       "    .dataframe tbody tr th {\n",
       "        vertical-align: top;\n",
       "    }\n",
       "\n",
       "    .dataframe thead th {\n",
       "        text-align: right;\n",
       "    }\n",
       "</style>\n",
       "<table border=\"1\" class=\"dataframe\">\n",
       "  <thead>\n",
       "    <tr style=\"text-align: right;\">\n",
       "      <th></th>\n",
       "      <th>0</th>\n",
       "    </tr>\n",
       "  </thead>\n",
       "  <tbody>\n",
       "    <tr>\n",
       "      <th>anime_id</th>\n",
       "      <td>0</td>\n",
       "    </tr>\n",
       "    <tr>\n",
       "      <th>name</th>\n",
       "      <td>0</td>\n",
       "    </tr>\n",
       "    <tr>\n",
       "      <th>genre</th>\n",
       "      <td>0</td>\n",
       "    </tr>\n",
       "    <tr>\n",
       "      <th>type</th>\n",
       "      <td>0</td>\n",
       "    </tr>\n",
       "    <tr>\n",
       "      <th>episodes</th>\n",
       "      <td>0</td>\n",
       "    </tr>\n",
       "    <tr>\n",
       "      <th>rating</th>\n",
       "      <td>0</td>\n",
       "    </tr>\n",
       "    <tr>\n",
       "      <th>members</th>\n",
       "      <td>0</td>\n",
       "    </tr>\n",
       "    <tr>\n",
       "      <th>user_id</th>\n",
       "      <td>0</td>\n",
       "    </tr>\n",
       "    <tr>\n",
       "      <th>user_rating</th>\n",
       "      <td>0</td>\n",
       "    </tr>\n",
       "  </tbody>\n",
       "</table>\n",
       "</div>"
      ],
      "text/plain": [
       "             0\n",
       "anime_id     0\n",
       "name         0\n",
       "genre        0\n",
       "type         0\n",
       "episodes     0\n",
       "rating       0\n",
       "members      0\n",
       "user_id      0\n",
       "user_rating  0"
      ]
     },
     "execution_count": 27,
     "metadata": {},
     "output_type": "execute_result"
    }
   ],
   "source": [
    "data = anime_fulldata.copy()\n",
    "data[\"user_rating\"].replace(to_replace = -1 , value = np.nan ,inplace=True)\n",
    "data = data.dropna(axis = 0)\n",
    "print(\"Null values after final pre-processing :\")\n",
    "data.isna().sum().to_frame()"
   ]
  },
  {
   "cell_type": "markdown",
   "metadata": {
    "id": "mHgFe5UPs-nQ"
   },
   "source": [
    "##### Consider minimum 50 ratings by the user as a threshold value\n",
    "###  \n",
    "###### There are a lot of users who have rated only once, even if they have rated 5 animes,\n",
    "######  so it can't be considered as a valuable record for recommendation."
   ]
  },
  {
   "cell_type": "code",
   "execution_count": 28,
   "metadata": {
    "id": "a0AavIkcHibT"
   },
   "outputs": [],
   "source": [
    "selected_users = data[\"user_id\"].value_counts()\n",
    "data = data[data[\"user_id\"].isin(selected_users[selected_users >= 50].index)]"
   ]
  },
  {
   "cell_type": "markdown",
   "metadata": {
    "id": "gvgOdnzTtGHg"
   },
   "source": [
    "##### Create a pivot table consists of rows as title and columns as user id\n",
    "\n",
    "###### It will help us to create sparse matrix which can be very helpful in finding the cosine similarity"
   ]
  },
  {
   "cell_type": "code",
   "execution_count": 29,
   "metadata": {
    "colab": {
     "base_uri": "https://localhost:8080/",
     "height": 452
    },
    "id": "j1WTIy_MHsLb",
    "outputId": "47ecf79c-2844-41a0-8ef8-1f6e3749bcaf"
   },
   "outputs": [
    {
     "data": {
      "text/html": [
       "<div>\n",
       "<style scoped>\n",
       "    .dataframe tbody tr th:only-of-type {\n",
       "        vertical-align: middle;\n",
       "    }\n",
       "\n",
       "    .dataframe tbody tr th {\n",
       "        vertical-align: top;\n",
       "    }\n",
       "\n",
       "    .dataframe thead th {\n",
       "        text-align: right;\n",
       "    }\n",
       "</style>\n",
       "<table border=\"1\" class=\"dataframe\">\n",
       "  <thead>\n",
       "    <tr style=\"text-align: right;\">\n",
       "      <th>user_id</th>\n",
       "      <th>3</th>\n",
       "      <th>5</th>\n",
       "      <th>7</th>\n",
       "      <th>11</th>\n",
       "      <th>14</th>\n",
       "      <th>17</th>\n",
       "      <th>21</th>\n",
       "      <th>23</th>\n",
       "      <th>24</th>\n",
       "      <th>27</th>\n",
       "      <th>...</th>\n",
       "      <th>73495</th>\n",
       "      <th>73499</th>\n",
       "      <th>73500</th>\n",
       "      <th>73501</th>\n",
       "      <th>73502</th>\n",
       "      <th>73503</th>\n",
       "      <th>73504</th>\n",
       "      <th>73507</th>\n",
       "      <th>73510</th>\n",
       "      <th>73515</th>\n",
       "    </tr>\n",
       "    <tr>\n",
       "      <th>name</th>\n",
       "      <th></th>\n",
       "      <th></th>\n",
       "      <th></th>\n",
       "      <th></th>\n",
       "      <th></th>\n",
       "      <th></th>\n",
       "      <th></th>\n",
       "      <th></th>\n",
       "      <th></th>\n",
       "      <th></th>\n",
       "      <th></th>\n",
       "      <th></th>\n",
       "      <th></th>\n",
       "      <th></th>\n",
       "      <th></th>\n",
       "      <th></th>\n",
       "      <th></th>\n",
       "      <th></th>\n",
       "      <th></th>\n",
       "      <th></th>\n",
       "      <th></th>\n",
       "    </tr>\n",
       "  </thead>\n",
       "  <tbody>\n",
       "    <tr>\n",
       "      <th>&amp;quot;0&amp;quot;</th>\n",
       "      <td>0.0</td>\n",
       "      <td>0.0</td>\n",
       "      <td>0.0</td>\n",
       "      <td>0.0</td>\n",
       "      <td>0.0</td>\n",
       "      <td>0.0</td>\n",
       "      <td>0.0</td>\n",
       "      <td>0.0</td>\n",
       "      <td>0.0</td>\n",
       "      <td>0.0</td>\n",
       "      <td>...</td>\n",
       "      <td>0.0</td>\n",
       "      <td>0.0</td>\n",
       "      <td>0.0</td>\n",
       "      <td>0.0</td>\n",
       "      <td>0.0</td>\n",
       "      <td>0.0</td>\n",
       "      <td>0.0</td>\n",
       "      <td>0.0</td>\n",
       "      <td>0.0</td>\n",
       "      <td>0.0</td>\n",
       "    </tr>\n",
       "    <tr>\n",
       "      <th>&amp;quot;Bungaku Shoujo&amp;quot; Kyou no Oyatsu: Hatsukoi</th>\n",
       "      <td>0.0</td>\n",
       "      <td>0.0</td>\n",
       "      <td>0.0</td>\n",
       "      <td>0.0</td>\n",
       "      <td>0.0</td>\n",
       "      <td>0.0</td>\n",
       "      <td>0.0</td>\n",
       "      <td>0.0</td>\n",
       "      <td>0.0</td>\n",
       "      <td>0.0</td>\n",
       "      <td>...</td>\n",
       "      <td>0.0</td>\n",
       "      <td>0.0</td>\n",
       "      <td>0.0</td>\n",
       "      <td>0.0</td>\n",
       "      <td>10.0</td>\n",
       "      <td>0.0</td>\n",
       "      <td>0.0</td>\n",
       "      <td>0.0</td>\n",
       "      <td>0.0</td>\n",
       "      <td>0.0</td>\n",
       "    </tr>\n",
       "    <tr>\n",
       "      <th>&amp;quot;Bungaku Shoujo&amp;quot; Memoire</th>\n",
       "      <td>0.0</td>\n",
       "      <td>0.0</td>\n",
       "      <td>0.0</td>\n",
       "      <td>0.0</td>\n",
       "      <td>0.0</td>\n",
       "      <td>0.0</td>\n",
       "      <td>0.0</td>\n",
       "      <td>0.0</td>\n",
       "      <td>0.0</td>\n",
       "      <td>0.0</td>\n",
       "      <td>...</td>\n",
       "      <td>0.0</td>\n",
       "      <td>0.0</td>\n",
       "      <td>0.0</td>\n",
       "      <td>0.0</td>\n",
       "      <td>0.0</td>\n",
       "      <td>0.0</td>\n",
       "      <td>0.0</td>\n",
       "      <td>0.0</td>\n",
       "      <td>6.0</td>\n",
       "      <td>0.0</td>\n",
       "    </tr>\n",
       "    <tr>\n",
       "      <th>&amp;quot;Bungaku Shoujo&amp;quot; Movie</th>\n",
       "      <td>0.0</td>\n",
       "      <td>0.0</td>\n",
       "      <td>0.0</td>\n",
       "      <td>0.0</td>\n",
       "      <td>8.0</td>\n",
       "      <td>0.0</td>\n",
       "      <td>0.0</td>\n",
       "      <td>0.0</td>\n",
       "      <td>0.0</td>\n",
       "      <td>0.0</td>\n",
       "      <td>...</td>\n",
       "      <td>0.0</td>\n",
       "      <td>0.0</td>\n",
       "      <td>0.0</td>\n",
       "      <td>0.0</td>\n",
       "      <td>10.0</td>\n",
       "      <td>0.0</td>\n",
       "      <td>0.0</td>\n",
       "      <td>0.0</td>\n",
       "      <td>0.0</td>\n",
       "      <td>0.0</td>\n",
       "    </tr>\n",
       "    <tr>\n",
       "      <th>&amp;quot;Eiji&amp;quot;</th>\n",
       "      <td>0.0</td>\n",
       "      <td>0.0</td>\n",
       "      <td>0.0</td>\n",
       "      <td>0.0</td>\n",
       "      <td>0.0</td>\n",
       "      <td>0.0</td>\n",
       "      <td>0.0</td>\n",
       "      <td>0.0</td>\n",
       "      <td>0.0</td>\n",
       "      <td>0.0</td>\n",
       "      <td>...</td>\n",
       "      <td>0.0</td>\n",
       "      <td>0.0</td>\n",
       "      <td>0.0</td>\n",
       "      <td>0.0</td>\n",
       "      <td>0.0</td>\n",
       "      <td>0.0</td>\n",
       "      <td>0.0</td>\n",
       "      <td>0.0</td>\n",
       "      <td>0.0</td>\n",
       "      <td>0.0</td>\n",
       "    </tr>\n",
       "  </tbody>\n",
       "</table>\n",
       "<p>5 rows × 32967 columns</p>\n",
       "</div>"
      ],
      "text/plain": [
       "user_id                                             3      5      7      \\\n",
       "name                                                                      \n",
       "&quot;0&quot;                                         0.0    0.0    0.0   \n",
       "&quot;Bungaku Shoujo&quot; Kyou no Oyatsu: Hats...    0.0    0.0    0.0   \n",
       "&quot;Bungaku Shoujo&quot; Memoire                    0.0    0.0    0.0   \n",
       "&quot;Bungaku Shoujo&quot; Movie                      0.0    0.0    0.0   \n",
       "&quot;Eiji&quot;                                      0.0    0.0    0.0   \n",
       "\n",
       "user_id                                             11     14     17     \\\n",
       "name                                                                      \n",
       "&quot;0&quot;                                         0.0    0.0    0.0   \n",
       "&quot;Bungaku Shoujo&quot; Kyou no Oyatsu: Hats...    0.0    0.0    0.0   \n",
       "&quot;Bungaku Shoujo&quot; Memoire                    0.0    0.0    0.0   \n",
       "&quot;Bungaku Shoujo&quot; Movie                      0.0    8.0    0.0   \n",
       "&quot;Eiji&quot;                                      0.0    0.0    0.0   \n",
       "\n",
       "user_id                                             21     23     24     \\\n",
       "name                                                                      \n",
       "&quot;0&quot;                                         0.0    0.0    0.0   \n",
       "&quot;Bungaku Shoujo&quot; Kyou no Oyatsu: Hats...    0.0    0.0    0.0   \n",
       "&quot;Bungaku Shoujo&quot; Memoire                    0.0    0.0    0.0   \n",
       "&quot;Bungaku Shoujo&quot; Movie                      0.0    0.0    0.0   \n",
       "&quot;Eiji&quot;                                      0.0    0.0    0.0   \n",
       "\n",
       "user_id                                             27     ...  73495  73499  \\\n",
       "name                                                       ...                 \n",
       "&quot;0&quot;                                         0.0  ...    0.0    0.0   \n",
       "&quot;Bungaku Shoujo&quot; Kyou no Oyatsu: Hats...    0.0  ...    0.0    0.0   \n",
       "&quot;Bungaku Shoujo&quot; Memoire                    0.0  ...    0.0    0.0   \n",
       "&quot;Bungaku Shoujo&quot; Movie                      0.0  ...    0.0    0.0   \n",
       "&quot;Eiji&quot;                                      0.0  ...    0.0    0.0   \n",
       "\n",
       "user_id                                             73500  73501  73502  \\\n",
       "name                                                                      \n",
       "&quot;0&quot;                                         0.0    0.0    0.0   \n",
       "&quot;Bungaku Shoujo&quot; Kyou no Oyatsu: Hats...    0.0    0.0   10.0   \n",
       "&quot;Bungaku Shoujo&quot; Memoire                    0.0    0.0    0.0   \n",
       "&quot;Bungaku Shoujo&quot; Movie                      0.0    0.0   10.0   \n",
       "&quot;Eiji&quot;                                      0.0    0.0    0.0   \n",
       "\n",
       "user_id                                             73503  73504  73507  \\\n",
       "name                                                                      \n",
       "&quot;0&quot;                                         0.0    0.0    0.0   \n",
       "&quot;Bungaku Shoujo&quot; Kyou no Oyatsu: Hats...    0.0    0.0    0.0   \n",
       "&quot;Bungaku Shoujo&quot; Memoire                    0.0    0.0    0.0   \n",
       "&quot;Bungaku Shoujo&quot; Movie                      0.0    0.0    0.0   \n",
       "&quot;Eiji&quot;                                      0.0    0.0    0.0   \n",
       "\n",
       "user_id                                             73510  73515  \n",
       "name                                                              \n",
       "&quot;0&quot;                                         0.0    0.0  \n",
       "&quot;Bungaku Shoujo&quot; Kyou no Oyatsu: Hats...    0.0    0.0  \n",
       "&quot;Bungaku Shoujo&quot; Memoire                    6.0    0.0  \n",
       "&quot;Bungaku Shoujo&quot; Movie                      0.0    0.0  \n",
       "&quot;Eiji&quot;                                      0.0    0.0  \n",
       "\n",
       "[5 rows x 32967 columns]"
      ]
     },
     "execution_count": 29,
     "metadata": {},
     "output_type": "execute_result"
    }
   ],
   "source": [
    "data_pivot_temp = data.pivot_table(index=\"name\",columns=\"user_id\",values=\"user_rating\").fillna(0)\n",
    "data_pivot_temp.head()"
   ]
  },
  {
   "cell_type": "markdown",
   "metadata": {
    "id": "EBwj7-MutSSD"
   },
   "source": [
    "##### Remove japanese/special character symbols in anime name"
   ]
  },
  {
   "cell_type": "code",
   "execution_count": 30,
   "metadata": {
    "id": "gMS2p3tMHuar"
   },
   "outputs": [],
   "source": [
    "import re\n",
    "def text_cleaning(text):\n",
    "    text = re.sub(r'\"', '', text)\n",
    "    text = re.sub(r'.hack//', '', text)\n",
    "    text = re.sub(r\"'\", '', text)\n",
    "    text = re.sub(r\"A's\", '', text)\n",
    "    text = re.sub(r\"I'\", 'I\\'', text)\n",
    "    text = re.sub(r'&', 'and', text)\n",
    "    \n",
    "    return text\n",
    "\n",
    "data[\"name\"] = data[\"name\"].apply(text_cleaning)"
   ]
  },
  {
   "cell_type": "code",
   "execution_count": 31,
   "metadata": {
    "colab": {
     "base_uri": "https://localhost:8080/",
     "height": 384
    },
    "id": "R0pW9Va2H8P4",
    "outputId": "28bcdc02-23f1-49a9-8ce5-f3db4653062c"
   },
   "outputs": [
    {
     "name": "stdout",
     "output_type": "stream",
     "text": [
      "After Cleaning the animes names, let's see how it looks like.\n"
     ]
    },
    {
     "data": {
      "text/html": [
       "<div>\n",
       "<style scoped>\n",
       "    .dataframe tbody tr th:only-of-type {\n",
       "        vertical-align: middle;\n",
       "    }\n",
       "\n",
       "    .dataframe tbody tr th {\n",
       "        vertical-align: top;\n",
       "    }\n",
       "\n",
       "    .dataframe thead th {\n",
       "        text-align: right;\n",
       "    }\n",
       "</style>\n",
       "<table border=\"1\" class=\"dataframe\">\n",
       "  <thead>\n",
       "    <tr style=\"text-align: right;\">\n",
       "      <th>user_id</th>\n",
       "      <th>3</th>\n",
       "      <th>5</th>\n",
       "      <th>7</th>\n",
       "      <th>11</th>\n",
       "      <th>14</th>\n",
       "      <th>17</th>\n",
       "      <th>21</th>\n",
       "      <th>23</th>\n",
       "      <th>24</th>\n",
       "      <th>27</th>\n",
       "      <th>...</th>\n",
       "      <th>73495</th>\n",
       "      <th>73499</th>\n",
       "      <th>73500</th>\n",
       "      <th>73501</th>\n",
       "      <th>73502</th>\n",
       "      <th>73503</th>\n",
       "      <th>73504</th>\n",
       "      <th>73507</th>\n",
       "      <th>73510</th>\n",
       "      <th>73515</th>\n",
       "    </tr>\n",
       "    <tr>\n",
       "      <th>name</th>\n",
       "      <th></th>\n",
       "      <th></th>\n",
       "      <th></th>\n",
       "      <th></th>\n",
       "      <th></th>\n",
       "      <th></th>\n",
       "      <th></th>\n",
       "      <th></th>\n",
       "      <th></th>\n",
       "      <th></th>\n",
       "      <th></th>\n",
       "      <th></th>\n",
       "      <th></th>\n",
       "      <th></th>\n",
       "      <th></th>\n",
       "      <th></th>\n",
       "      <th></th>\n",
       "      <th></th>\n",
       "      <th></th>\n",
       "      <th></th>\n",
       "      <th></th>\n",
       "    </tr>\n",
       "  </thead>\n",
       "  <tbody>\n",
       "    <tr>\n",
       "      <th>001</th>\n",
       "      <td>0.0</td>\n",
       "      <td>0.0</td>\n",
       "      <td>0.0</td>\n",
       "      <td>0.0</td>\n",
       "      <td>0.0</td>\n",
       "      <td>0.0</td>\n",
       "      <td>0.0</td>\n",
       "      <td>0.0</td>\n",
       "      <td>0.0</td>\n",
       "      <td>0.0</td>\n",
       "      <td>...</td>\n",
       "      <td>0.0</td>\n",
       "      <td>0.0</td>\n",
       "      <td>0.0</td>\n",
       "      <td>0.0</td>\n",
       "      <td>0.0</td>\n",
       "      <td>0.0</td>\n",
       "      <td>0.0</td>\n",
       "      <td>0.0</td>\n",
       "      <td>0.0</td>\n",
       "      <td>0.0</td>\n",
       "    </tr>\n",
       "    <tr>\n",
       "      <th>009 Re:Cyborg</th>\n",
       "      <td>0.0</td>\n",
       "      <td>0.0</td>\n",
       "      <td>0.0</td>\n",
       "      <td>0.0</td>\n",
       "      <td>0.0</td>\n",
       "      <td>0.0</td>\n",
       "      <td>0.0</td>\n",
       "      <td>0.0</td>\n",
       "      <td>0.0</td>\n",
       "      <td>0.0</td>\n",
       "      <td>...</td>\n",
       "      <td>0.0</td>\n",
       "      <td>0.0</td>\n",
       "      <td>0.0</td>\n",
       "      <td>0.0</td>\n",
       "      <td>0.0</td>\n",
       "      <td>0.0</td>\n",
       "      <td>0.0</td>\n",
       "      <td>0.0</td>\n",
       "      <td>0.0</td>\n",
       "      <td>0.0</td>\n",
       "    </tr>\n",
       "    <tr>\n",
       "      <th>009-1</th>\n",
       "      <td>0.0</td>\n",
       "      <td>0.0</td>\n",
       "      <td>0.0</td>\n",
       "      <td>0.0</td>\n",
       "      <td>0.0</td>\n",
       "      <td>0.0</td>\n",
       "      <td>0.0</td>\n",
       "      <td>0.0</td>\n",
       "      <td>0.0</td>\n",
       "      <td>0.0</td>\n",
       "      <td>...</td>\n",
       "      <td>0.0</td>\n",
       "      <td>0.0</td>\n",
       "      <td>0.0</td>\n",
       "      <td>0.0</td>\n",
       "      <td>0.0</td>\n",
       "      <td>0.0</td>\n",
       "      <td>0.0</td>\n",
       "      <td>0.0</td>\n",
       "      <td>0.0</td>\n",
       "      <td>0.0</td>\n",
       "    </tr>\n",
       "    <tr>\n",
       "      <th>009-1: Randamp;B</th>\n",
       "      <td>0.0</td>\n",
       "      <td>0.0</td>\n",
       "      <td>0.0</td>\n",
       "      <td>0.0</td>\n",
       "      <td>0.0</td>\n",
       "      <td>0.0</td>\n",
       "      <td>0.0</td>\n",
       "      <td>0.0</td>\n",
       "      <td>0.0</td>\n",
       "      <td>0.0</td>\n",
       "      <td>...</td>\n",
       "      <td>0.0</td>\n",
       "      <td>0.0</td>\n",
       "      <td>0.0</td>\n",
       "      <td>0.0</td>\n",
       "      <td>0.0</td>\n",
       "      <td>0.0</td>\n",
       "      <td>0.0</td>\n",
       "      <td>0.0</td>\n",
       "      <td>0.0</td>\n",
       "      <td>0.0</td>\n",
       "    </tr>\n",
       "    <tr>\n",
       "      <th>00:08</th>\n",
       "      <td>0.0</td>\n",
       "      <td>0.0</td>\n",
       "      <td>0.0</td>\n",
       "      <td>0.0</td>\n",
       "      <td>0.0</td>\n",
       "      <td>0.0</td>\n",
       "      <td>0.0</td>\n",
       "      <td>0.0</td>\n",
       "      <td>0.0</td>\n",
       "      <td>0.0</td>\n",
       "      <td>...</td>\n",
       "      <td>0.0</td>\n",
       "      <td>0.0</td>\n",
       "      <td>0.0</td>\n",
       "      <td>0.0</td>\n",
       "      <td>0.0</td>\n",
       "      <td>0.0</td>\n",
       "      <td>0.0</td>\n",
       "      <td>0.0</td>\n",
       "      <td>0.0</td>\n",
       "      <td>0.0</td>\n",
       "    </tr>\n",
       "  </tbody>\n",
       "</table>\n",
       "<p>5 rows × 32967 columns</p>\n",
       "</div>"
      ],
      "text/plain": [
       "user_id           3      5      7      11     14     17     21     23     \\\n",
       "name                                                                       \n",
       "001                 0.0    0.0    0.0    0.0    0.0    0.0    0.0    0.0   \n",
       "009 Re:Cyborg       0.0    0.0    0.0    0.0    0.0    0.0    0.0    0.0   \n",
       "009-1               0.0    0.0    0.0    0.0    0.0    0.0    0.0    0.0   \n",
       "009-1: Randamp;B    0.0    0.0    0.0    0.0    0.0    0.0    0.0    0.0   \n",
       "00:08               0.0    0.0    0.0    0.0    0.0    0.0    0.0    0.0   \n",
       "\n",
       "user_id           24     27     ...  73495  73499  73500  73501  73502  73503  \\\n",
       "name                            ...                                             \n",
       "001                 0.0    0.0  ...    0.0    0.0    0.0    0.0    0.0    0.0   \n",
       "009 Re:Cyborg       0.0    0.0  ...    0.0    0.0    0.0    0.0    0.0    0.0   \n",
       "009-1               0.0    0.0  ...    0.0    0.0    0.0    0.0    0.0    0.0   \n",
       "009-1: Randamp;B    0.0    0.0  ...    0.0    0.0    0.0    0.0    0.0    0.0   \n",
       "00:08               0.0    0.0  ...    0.0    0.0    0.0    0.0    0.0    0.0   \n",
       "\n",
       "user_id           73504  73507  73510  73515  \n",
       "name                                          \n",
       "001                 0.0    0.0    0.0    0.0  \n",
       "009 Re:Cyborg       0.0    0.0    0.0    0.0  \n",
       "009-1               0.0    0.0    0.0    0.0  \n",
       "009-1: Randamp;B    0.0    0.0    0.0    0.0  \n",
       "00:08               0.0    0.0    0.0    0.0  \n",
       "\n",
       "[5 rows x 32967 columns]"
      ]
     },
     "execution_count": 31,
     "metadata": {},
     "output_type": "execute_result"
    }
   ],
   "source": [
    "data_pivot = data.pivot_table(index=\"name\",columns=\"user_id\",values=\"user_rating\").fillna(0)\n",
    "print(\"After Cleaning the animes names, let's see how it looks like.\")\n",
    "data_pivot.head()"
   ]
  },
  {
   "cell_type": "markdown",
   "metadata": {
    "id": "0p6NRJ01GjB2"
   },
   "source": [
    "# 5. Learning Model"
   ]
  },
  {
   "cell_type": "markdown",
   "metadata": {
    "id": "pgfDvuj7NjRf"
   },
   "source": [
    "#### 5.1 Collaborative Recommender\n",
    "#### Using KNN(cosine similarity)\n",
    "##### - KNN is a machine learning algorithm to find clusters of similar users based on common anime ratings, and make predictions using the average rating of top-k nearest neighbors\n",
    "##### - Cosine similarity refers to the similarity of two vectors obtained using the cosine angle between two vectors. If the two vectors have exactly the same direction, they have a value of 1, and if they have an angle of 90°, they have a value of 0, 180° and vice versa, they have a value of -1\n",
    "##### - The cosine distance is calculated using the metric method of the KNN  algorithm. When an animation title is entered using cosine distance, an animation that users will like is provided."
   ]
  },
  {
   "cell_type": "markdown",
   "metadata": {
    "id": "37OzLMG0Pu50"
   },
   "source": [
    "https://www.kaggle.com/code/raksh710/content-based-filtering-sorted-by-weighted-average"
   ]
  },
  {
   "cell_type": "code",
   "execution_count": 32,
   "metadata": {
    "id": "yCgbiQK7uhgk"
   },
   "outputs": [],
   "source": [
    "def search_KNN(domain_data,rating_data,domain_id,title):\n",
    "  # make pivot table\n",
    "  fulldata = pd.merge(domain_data,rating_data,on=domain_id,suffixes= [None, \"_user\"])\n",
    "  fulldata = fulldata.rename(columns={\"rating_user\": \"user_rating\"})\n",
    "  fulldata = fulldata.rename(columns={\"rating\": \"user_rating\"})\n",
    "\n",
    "  data = fulldata.copy()\n",
    "  data[\"user_rating\"].replace(to_replace = -1 , value = np.nan ,inplace=True)\n",
    "  data = data.dropna(axis = 0)\n",
    "\n",
    "  selected_users = data[\"user_id\"].value_counts()\n",
    "  data = data[data[\"user_id\"].isin(selected_users[selected_users >= 50].index)]\n",
    "\n",
    "  data_pivot = data.pivot_table(index=\"name\",columns=\"user_id\",values=\"user_rating\").fillna(0)\n",
    "\n",
    "  # Comput Cosin simmiliarity\n",
    "\n",
    "  from scipy.sparse import csr_matrix\n",
    "  from sklearn.neighbors import NearestNeighbors\n",
    "\n",
    "  data_matrix = csr_matrix(data_pivot.values)\n",
    "\n",
    "  model_knn = NearestNeighbors(metric = \"cosine\", algorithm = \"brute\")\n",
    "  model_knn.fit(data_matrix)\n",
    "\n",
    "  distances, indices = model_knn.kneighbors(data_pivot.loc[title].values.reshape(1, -1), n_neighbors = 6)\n",
    "\n",
    "  # recommendation\n",
    "  no = []\n",
    "  name = []\n",
    "  distance = []\n",
    "\n",
    "\n",
    "  for i in range(0, len(distances.flatten())):\n",
    "      if i == 0:\n",
    "          print('Recommendations for {} viewers :'.format(title))\n",
    "      else:      \n",
    "          no.append(i)\n",
    "          name.append(data_pivot.index[indices.flatten()[i]])\n",
    "          distance.append(distances.flatten()[i])\n",
    "          \n",
    "          \n",
    "\n",
    "  dic = {\"No\" : no, \"Name\" : name}\n",
    "  recommendation = pd.DataFrame(data = dic)\n",
    "  recommendation.set_index(\"No\", inplace = True)\n",
    "  \n",
    "  return recommendation"
   ]
  },
  {
   "cell_type": "markdown",
   "metadata": {
    "id": "GOGdsbSekThe"
   },
   "source": [
    "#### 5.2 Collaborative Recommender\n",
    "#### Using Apriori\n",
    "##### - The Apriori algorithm is an association rule, which refers to another event rule that occurs (often) together when a specific event occurs.\n",
    "##### - When a single animation title is input using the apriori algorithm, and animations title that the user may like is suggested.\n"
   ]
  },
  {
   "cell_type": "code",
   "execution_count": 33,
   "metadata": {
    "id": "5783FMI7ZjDt"
   },
   "outputs": [],
   "source": [
    "from mlxtend.frequent_patterns import apriori, association_rules\n",
    "\n",
    "def make_data(domain_data,rating_data,criterion,domain_id):\n",
    "  #make data frame\n",
    "  df = pd.merge(rating_data, domain_data, on = domain_id)\n",
    "  df.rename(columns = {\"rating_y\" : \"rating\"},inplace=True)\n",
    "  df1 = df[df[\"rating\"]>criterion].drop_duplicates()\n",
    "  return df1,df\n",
    "\n",
    "def make_rules(df1,df):  \n",
    "  crosstab = pd.crosstab(df1[\"user_id\"], df[\"name\"]).astype('bool')\n",
    "  freq_domain = apriori(crosstab,min_support=0.05,use_colnames=True)\n",
    "  rules = association_rules(freq_domain,metric='confidence',min_threshold=0.1)\n",
    "  rules['antecedents'] = rules['antecedents'].apply(lambda x: list(x)[0])\n",
    "  rules['consequents'] = rules['consequents'].apply(lambda x: list(x)[0])\n",
    "  return rules\n",
    "\n",
    "def serach_aprior(rules,string):  \n",
    "  search_df = rules[rules['antecedents'].str.lower()== string.lower()]\n",
    "  search_df.sort_values(by='lift', ascending=False)\n",
    "  return search_df[:10]['consequents']"
   ]
  },
  {
   "cell_type": "markdown",
   "metadata": {
    "id": "P-ywyJG6Yv4H"
   },
   "source": [
    "#### 5.3 Content Based Recommender\n",
    "#### Using TF-IDF weighting and Sigmoid_kernel\n",
    "###### - TF-IDF, or term frequency-inverse document frequency, is a figure that expresses the statistical importance of any given word to the document collection as a whole. TF-IDF is calculated by multiplying term frequency and inverse document frequency.\n",
    "###### - Sigmoid function returns two values, 0 and 1, therefore it is more suitable for binary classification problems. \n",
    "###### - It recommends movies using SVD using animation information that the user has seen in the past."
   ]
  },
  {
   "cell_type": "code",
   "execution_count": 34,
   "metadata": {
    "id": "q9T8-_hcZEYh"
   },
   "outputs": [],
   "source": [
    "def search_Tfidf(title,domain_data,rating_data,full_data,split):\n",
    "    from sklearn.feature_extraction.text import TfidfVectorizer\n",
    "    from sklearn.metrics.pairwise import sigmoid_kernel\n",
    "\n",
    "    # Convert vector\n",
    "    tfv = TfidfVectorizer(min_df=3, max_features=None, strip_accents=\"unicode\", analyzer=\"word\",\n",
    "                      token_pattern=r\"\\w{1,}\", ngram_range=(1, 3), stop_words = \"english\")\n",
    "\n",
    "    rec_data = full_data.copy()\n",
    "    rec_data.drop_duplicates(subset = \"name\", keep = \"first\", inplace = True)\n",
    "    rec_data.reset_index(drop = True, inplace = True)\n",
    "    genres = rec_data[\"genre\"].str.split(split).astype(str)\n",
    "    tfv_matrix = tfv.fit_transform(genres)\n",
    "    \n",
    "\n",
    "    sig = sigmoid_kernel(tfv_matrix, tfv_matrix)      # Computing sigmoid kernel\n",
    "\n",
    "    rec_indices = pd.Series(rec_data.index, index = rec_data[\"name\"]).drop_duplicates()\n",
    "    \n",
    "    idx = rec_indices[title] # Getting index corresponding to original_title\n",
    "\n",
    "    sig_score = list(enumerate(sig[idx]))  # Getting pairwsie similarity scores \n",
    "    sig_score = sorted(sig_score, key=lambda x: x[1], reverse=True)\n",
    "    sig_score = sig_score[1:11]\n",
    "    anime_indices = [i[0] for i in sig_score]\n",
    "     \n",
    "    # Top 10 most similar movies\n",
    "    rec_dic = {\"No\" : range(1,11), \n",
    "               \"Name\" : domain_data[\"name\"].iloc[anime_indices].values}\n",
    "    dataframe = pd.DataFrame(data = rec_dic)\n",
    "    dataframe.set_index(\"No\", inplace = True)\n",
    "    \n",
    "    print(f\"Recommendations for {title} viewers :\\n\")\n",
    "    \n",
    "    return dataframe"
   ]
  },
  {
   "cell_type": "markdown",
   "metadata": {},
   "source": [
    "# recommend"
   ]
  },
  {
   "cell_type": "code",
   "execution_count": 35,
   "metadata": {},
   "outputs": [],
   "source": [
    "def recommend(title, main_data, rating_data, fulldata, data_id, criterion, split):\n",
    "    print('-- Collaborative Recommender / KNN --')\n",
    "    print(search_KNN(main_data, rating_data, data_id, title))\n",
    "    print()\n",
    "    \n",
    "    print('-- Collaborative Recommender / Apriori --')\n",
    "    df1,df = make_data(main_data, rating_data, criterion, data_id)\n",
    "    rules = make_rules(df1,df)\n",
    "    print(serach_aprior(rules,title))\n",
    "    print()\n",
    "    \n",
    "    print('-- Content Based Recommender / TF-IDF --')\n",
    "    print(search_Tfidf(title, main_data, rating_data, fulldata, split))\n",
    "    print()"
   ]
  },
  {
   "cell_type": "code",
   "execution_count": 92,
   "metadata": {
    "colab": {
     "base_uri": "https://localhost:8080/",
     "height": 431
    },
    "id": "dpft9ZnQMKem",
    "outputId": "da1514a9-54de-4d0e-976a-371b2e532be2"
   },
   "outputs": [
    {
     "name": "stdout",
     "output_type": "stream",
     "text": [
      "-- Collaborative Recommender / KNN --\n",
      "Recommendations for One Punch Man viewers :\n",
      "                          Name\n",
      "No                            \n",
      "1      Boku dake ga Inai Machi\n",
      "2           Shingeki no Kyojin\n",
      "3   Kiseijuu: Sei no Kakuritsu\n",
      "4              No Game No Life\n",
      "5                  Tokyo Ghoul\n",
      "\n",
      "-- Collaborative Recommender / Apriori --\n",
      "48     Ano Hi Mita Hana no Namae wo Bokutachi wa Mada...\n",
      "102                                             Baccano!\n",
      "169                              Boku dake ga Inai Machi\n",
      "218                                 Clannad: After Story\n",
      "298                      Code Geass: Hangyaku no Lelouch\n",
      "372                   Code Geass: Hangyaku no Lelouch R2\n",
      "427                                         Cowboy Bebop\n",
      "486                                           Death Note\n",
      "559                                            Fate/Zero\n",
      "601                                 Fate/Zero 2nd Season\n",
      "Name: consequents, dtype: object\n",
      "\n",
      "-- Content Based Recommender / TF-IDF --\n",
      "Recommendations for One Punch Man viewers :\n",
      "\n",
      "                                                 Name\n",
      "No                                                   \n",
      "1         Sora no Otoshimono: Tokeijikake no Angeloid\n",
      "2   One Piece: Episode of Luffy - Hand Island no B...\n",
      "3                    Love Live! Kouhaku Special Anime\n",
      "4                                             Stitch!\n",
      "5                                  Kotatsu Neko (ONA)\n",
      "6   Dr. Slump Movie 07: Arale-chan N-cha! Penguin ...\n",
      "7      Detective Conan Movie 01: The Timed Skyscraper\n",
      "8   Detective Conan: Conan vs. Kid - Jet Black Sniper\n",
      "9                                     Erementar Gerad\n",
      "10                     Fate/kaleid liner Prisma☆Illya\n",
      "\n"
     ]
    }
   ],
   "source": [
    "recommend('One Punch Man', anime, anime_rating, anime_fulldata, 'anime_id', 8.5, ', | , | ,')"
   ]
  },
  {
   "cell_type": "markdown",
   "metadata": {
    "id": "iXdAz_GrdGJb"
   },
   "source": [
    "# 7.Applied to the model"
   ]
  },
  {
   "cell_type": "code",
   "execution_count": 36,
   "metadata": {
    "scrolled": false
   },
   "outputs": [
    {
     "name": "stdout",
     "output_type": "stream",
     "text": [
      "-- Collaborative Recommender / KNN --\n",
      "Recommendations for Matrix, The (1999) viewers :\n",
      "                                                 Name\n",
      "No                                                   \n",
      "1                                   Fight Club (1999)\n",
      "2   Lord of the Rings: The Fellowship of the Ring,...\n",
      "3                              American Beauty (1999)\n",
      "4   Star Wars: Episode V - The Empire Strikes Back...\n",
      "5   Raiders of the Lost Ark (Indiana Jones and the...\n",
      "\n",
      "-- Collaborative Recommender / Apriori --\n",
      "4                   Alien (1979)\n",
      "12                 Aliens (1986)\n",
      "26        American Beauty (1999)\n",
      "46     Back to the Future (1985)\n",
      "56           Blade Runner (1982)\n",
      "67             Braveheart (1995)\n",
      "110            Fight Club (1999)\n",
      "131          Forrest Gump (1994)\n",
      "156             Gladiator (2000)\n",
      "165        Godfather, The (1972)\n",
      "Name: consequents, dtype: object\n",
      "\n",
      "-- Content Based Recommender / TF-IDF --\n",
      "Recommendations for Matrix, The (1999) viewers :\n",
      "\n",
      "                      Name\n",
      "No                        \n",
      "1         Screamers (1995)\n",
      "2   Johnny Mnemonic (1995)\n",
      "3        Virtuosity (1995)\n",
      "4           Timecop (1994)\n",
      "5      Blade Runner (1982)\n",
      "6              Solo (1996)\n",
      "7      Arrival, The (1996)\n",
      "8   Terminator, The (1984)\n",
      "9          Godzilla (1998)\n",
      "10      Matrix, The (1999)\n",
      "\n"
     ]
    }
   ],
   "source": [
    "recommend('Matrix, The (1999)', movie, movie_rating, movie_fulldata, 'movie_id', 4, '|')"
   ]
  },
  {
   "cell_type": "code",
   "execution_count": null,
   "metadata": {},
   "outputs": [],
   "source": []
  },
  {
   "cell_type": "code",
   "execution_count": null,
   "metadata": {},
   "outputs": [],
   "source": []
  }
 ],
 "metadata": {
  "accelerator": "GPU",
  "colab": {
   "collapsed_sections": [
    "U28Mu-hs8MfN",
    "tFk88cRf8VkF",
    "09ymFdimFMoQ",
    "9aTyLdDEFSJ2",
    "sqmga7Uor6wj",
    "TKiMV-j3sILd",
    "DWy6WFLYsQYw",
    "zvEkeRtysWwB",
    "_w6sdgJisqvx",
    "Su6sWPp3IS2q",
    "PEHjeFdHIYDD",
    "UpzH4IRwIaPd",
    "dknErFdZHfJl"
   ],
   "provenance": []
  },
  "gpuClass": "standard",
  "kernelspec": {
   "display_name": "Python 3 (ipykernel)",
   "language": "python",
   "name": "python3"
  },
  "language_info": {
   "codemirror_mode": {
    "name": "ipython",
    "version": 3
   },
   "file_extension": ".py",
   "mimetype": "text/x-python",
   "name": "python",
   "nbconvert_exporter": "python",
   "pygments_lexer": "ipython3",
   "version": "3.9.7"
  }
 },
 "nbformat": 4,
 "nbformat_minor": 1
}
